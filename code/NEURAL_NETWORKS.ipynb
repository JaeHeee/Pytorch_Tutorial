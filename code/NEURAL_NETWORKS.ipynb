{
  "nbformat": 4,
  "nbformat_minor": 0,
  "metadata": {
    "colab": {
      "name": "NEURAL NETWORKS.ipynb",
      "provenance": [],
      "authorship_tag": "ABX9TyOkYTKUt2KNkLv3j7wmA/OY",
      "include_colab_link": true
    },
    "kernelspec": {
      "name": "python3",
      "display_name": "Python 3"
    }
  },
  "cells": [
    {
      "cell_type": "markdown",
      "metadata": {
        "id": "view-in-github",
        "colab_type": "text"
      },
      "source": [
        "<a href=\"https://colab.research.google.com/github/JaeHeee/Pytorch_Tutorial/blob/main/code/NEURAL_NETWORKS.ipynb\" target=\"_parent\"><img src=\"https://colab.research.google.com/assets/colab-badge.svg\" alt=\"Open In Colab\"/></a>"
      ]
    },
    {
      "cell_type": "markdown",
      "metadata": {
        "id": "mol4zCduu0bV"
      },
      "source": [
        "## NEURAL NETWORKS"
      ]
    },
    {
      "cell_type": "markdown",
      "metadata": {
        "id": "j_lqZLdEu6V2"
      },
      "source": [
        "Neural networks은 `torch.nn` package를 사용하여 생성"
      ]
    },
    {
      "cell_type": "markdown",
      "metadata": {
        "id": "thsZJZz7vBtY"
      },
      "source": [
        "`nn`은 모델을 정의하고 미분하는데 `autograd`를 사용. `nn.Module`은 layer와 `output`을 반환하는 `forward(input)` 메서드를 포함"
      ]
    },
    {
      "cell_type": "markdown",
      "metadata": {
        "id": "knv-QhlovBwR"
      },
      "source": [
        "Neural networks의 일반적인 train 과정"
      ]
    },
    {
      "cell_type": "markdown",
      "metadata": {
        "id": "PijOT-uRvBza"
      },
      "source": [
        "- 학습 가능한 매개변수(또는 가중치(weight))를 갖는 신경망을 정의\n",
        "\n",
        "- 데이터셋(dataset) 입력을 반복\n",
        "\n",
        "- 입력을 신경망에서 전파(process)\n",
        "\n",
        "- 손실(loss; 출력이 정답으로부터 얼마나 떨어져있는지)을 계산\n",
        "\n",
        "- 변화도(gradient)를 신경망의 매개변수들에 역으로 전파\n",
        "\n",
        "- 신경망의 가중치를 갱신. 일반적으로 다음과 같은 간단한 규칙을 사용 :  `새로운 가중치(weight) = 가중치(weight) - 학습률(learning rate) * 변화도(gradient)`"
      ]
    },
    {
      "cell_type": "markdown",
      "metadata": {
        "id": "m4HjqyLovB2m"
      },
      "source": [
        "### Define the network\n",
        "\n"
      ]
    },
    {
      "cell_type": "code",
      "metadata": {
        "colab": {
          "base_uri": "https://localhost:8080/"
        },
        "id": "e4fvDnfCuxGc",
        "outputId": "0288119e-38f0-489b-8a46-fed026c4ce96"
      },
      "source": [
        "import torch\n",
        "import torch.nn as nn\n",
        "import torch.nn.functional as F\n",
        "\n",
        "class Net(nn.Module):\n",
        "\n",
        "    def __init__(self):\n",
        "        super(Net, self).__init__()\n",
        "        self.conv1 = nn.Conv2d(1, 6, 3)\n",
        "        self.conv2 = nn.Conv2d(6, 16, 3)\n",
        "        # affine : y = Wx + b\n",
        "        self.fc1 = nn.Linear(16*6*6, 120)\n",
        "        self.fc2 = nn.Linear(120, 84)\n",
        "        self.fc3 = nn.Linear(84, 10)\n",
        "    \n",
        "    def forward(self, x):\n",
        "        x = F.max_pool2d(F.relu(self.conv1(x)), (2, 2)) # (2, 2) 크기 윈도우에 대해 맥스 풀링(max pooling)\n",
        "        x = F.max_pool2d(F.relu(self.conv2(x)), 2) # 크기가 제곱수라면 하나의 숫자만을 특정\n",
        "        x = x.view(-1, self.num_flat_features(x))\n",
        "        x = F.relu(self.fc1(x))\n",
        "        x = F.relu(self.fc2(x))\n",
        "        x = self.fc3(x)\n",
        "        return x\n",
        "\n",
        "    def num_flat_features(self, x):\n",
        "        size = x.size()[1:]\n",
        "        num_features = 1\n",
        "        for s in size:\n",
        "            num_features *= s\n",
        "        return num_features\n",
        "\n",
        "\n",
        "net = Net()\n",
        "print(net)    "
      ],
      "execution_count": null,
      "outputs": [
        {
          "output_type": "stream",
          "text": [
            "Net(\n",
            "  (conv1): Conv2d(1, 6, kernel_size=(3, 3), stride=(1, 1))\n",
            "  (conv2): Conv2d(6, 16, kernel_size=(3, 3), stride=(1, 1))\n",
            "  (fc1): Linear(in_features=576, out_features=120, bias=True)\n",
            "  (fc2): Linear(in_features=120, out_features=84, bias=True)\n",
            "  (fc3): Linear(in_features=84, out_features=10, bias=True)\n",
            ")\n"
          ],
          "name": "stdout"
        }
      ]
    },
    {
      "cell_type": "markdown",
      "metadata": {
        "id": "nq7CIfsnyXuM"
      },
      "source": [
        "`forward` 함수만 정의하고 나면, `backward` 함수는 `autograd` 를 사용하여 자동으로 정의한다. `forward` 함수에서는 어떠한 Tensor 연산을 사용가능\n",
        "\n",
        "모델의 학습 가능한 매개변수들은 `net.parameters()` 에 의해 반환"
      ]
    },
    {
      "cell_type": "code",
      "metadata": {
        "colab": {
          "base_uri": "https://localhost:8080/"
        },
        "id": "498Nt_0uxusN",
        "outputId": "d1662465-1200-4bff-9354-aee2b7f21dc7"
      },
      "source": [
        "params = list(net.parameters())\n",
        "print(len(params))\n",
        "print(params[0].size())"
      ],
      "execution_count": null,
      "outputs": [
        {
          "output_type": "stream",
          "text": [
            "10\n",
            "torch.Size([6, 1, 3, 3])\n"
          ],
          "name": "stdout"
        }
      ]
    },
    {
      "cell_type": "markdown",
      "metadata": {
        "id": "UbAQWZX9zEE6"
      },
      "source": [
        "임의의 32x32 input 넣어보기"
      ]
    },
    {
      "cell_type": "code",
      "metadata": {
        "colab": {
          "base_uri": "https://localhost:8080/"
        },
        "id": "rmEb_XwQyvP-",
        "outputId": "0c122d0b-2bb6-4780-e2f9-266a4bace80f"
      },
      "source": [
        "input = torch.randn(1, 1, 32, 32)\n",
        "out = net(input)\n",
        "print(out)"
      ],
      "execution_count": null,
      "outputs": [
        {
          "output_type": "stream",
          "text": [
            "tensor([[-0.0181, -0.0152, -0.0927,  0.0735,  0.1141, -0.0760, -0.1455, -0.0771,\n",
            "          0.0546, -0.0692]], grad_fn=<AddmmBackward>)\n"
          ],
          "name": "stdout"
        }
      ]
    },
    {
      "cell_type": "markdown",
      "metadata": {
        "id": "gsn5ttgCzSug"
      },
      "source": [
        "모든 매개변수의 gradient buffer를 0으로 설정하고, 무작위 값으로 backprop"
      ]
    },
    {
      "cell_type": "code",
      "metadata": {
        "id": "fmIpvGg1zOUw"
      },
      "source": [
        "net.zero_grad()\n",
        "out.backward(torch.randn(1, 10))"
      ],
      "execution_count": null,
      "outputs": []
    },
    {
      "cell_type": "markdown",
      "metadata": {
        "id": "KGmbuWPLzuJT"
      },
      "source": [
        "`torch.nn` 은 mini-batch만 지원. `torch.nn` 패키지 전체는 하나의 샘플이 아닌, 샘플들의 mini-batch만을 입력으로 받는다.\n",
        "\n",
        "예를 들어, `nn.Conv2D` 는 `nSamples x nChannels x Height x Width` 의 4차원 Tensor를 입력으로 한다.\n",
        "\n",
        "만약 하나의 샘플만 있다면, `input.unsqueeze(0)` 을 사용해서 가상의 차원을 추가"
      ]
    },
    {
      "cell_type": "markdown",
      "metadata": {
        "id": "Y9C8ej0E0dLl"
      },
      "source": [
        "#### summary"
      ]
    },
    {
      "cell_type": "markdown",
      "metadata": {
        "id": "slPoDWJC0f__"
      },
      "source": [
        "- `torch.Tensor` - `backward()` 같은 `autograd` 연산을 지원하는 다차원 배열. 또한 tensor에 대한 gradient를 갖고 있다.\n",
        "\n",
        "- `nn.Module` - 신경망 모듈. 매개변수를 encapsulation하는 간편한 방법 으로, GPU로 이동, 내보내기(exporting), 불러오기(loading) 등의 작업을 위한 헬퍼(helper)를 제공.\n",
        "\n",
        "- `nn.Parameter` - Tensor의 한 종류로, Module 에 속성으로 할당될 때 자동으로 매개변수로 등록\n",
        "\n",
        "- `autograd.Function` - autograd 연산의 전방향과 역방향 정의 를 구현. 모든 Tensor 연산은 하나 이상의 `Function` 노드를 생성하며, 각 노드는 Tensor 를 생성하고 이력(history)을 부호화 하는 함수들과 연결"
      ]
    },
    {
      "cell_type": "markdown",
      "metadata": {
        "id": "8sHfRaOS0hG7"
      },
      "source": [
        "### Loss Function"
      ]
    },
    {
      "cell_type": "markdown",
      "metadata": {
        "id": "SNLzfeN01C_G"
      },
      "source": [
        "손실 함수는 (output, target)을 한 쌍(pair)의 입력으로 받아, 출력(output)이 정답(target)으로부터 얼마나 멀리 떨어져있는지 추정하는 값을 계산\n",
        "\n",
        "nn 패키지에는 여러가지의 손실 함수들 이 존재합니다. 간단한 손실 함수로는 출력과 대상간의 평균제곱오차(mean-squared error)를 계산하는 `nn.MSEloss` 가 있다."
      ]
    },
    {
      "cell_type": "code",
      "metadata": {
        "colab": {
          "base_uri": "https://localhost:8080/"
        },
        "id": "FdEWx-PKzcRo",
        "outputId": "17d43d9d-2142-4458-c2f1-e5f52ebee938"
      },
      "source": [
        "output = net(input)\n",
        "target = torch.randn(10)\n",
        "print(target)\n",
        "print(target.size())"
      ],
      "execution_count": null,
      "outputs": [
        {
          "output_type": "stream",
          "text": [
            "tensor([ 1.8679, -1.6043,  1.4283,  0.9151, -0.8611,  1.8825, -0.0534,  1.0908,\n",
            "        -0.0666,  1.0313])\n",
            "torch.Size([10])\n"
          ],
          "name": "stdout"
        }
      ]
    },
    {
      "cell_type": "code",
      "metadata": {
        "colab": {
          "base_uri": "https://localhost:8080/"
        },
        "id": "x0ZN7jmM1P6C",
        "outputId": "f1a6d174-ab10-484b-b6af-6969eaf70984"
      },
      "source": [
        "target = target.view(1, -1)\n",
        "print(target)\n",
        "print(target.size())"
      ],
      "execution_count": null,
      "outputs": [
        {
          "output_type": "stream",
          "text": [
            "tensor([[ 1.8679, -1.6043,  1.4283,  0.9151, -0.8611,  1.8825, -0.0534,  1.0908,\n",
            "         -0.0666,  1.0313]])\n",
            "torch.Size([1, 10])\n"
          ],
          "name": "stdout"
        }
      ]
    },
    {
      "cell_type": "code",
      "metadata": {
        "colab": {
          "base_uri": "https://localhost:8080/"
        },
        "id": "dXALfkGU1USF",
        "outputId": "8e19d5e4-57aa-4d87-bbfd-c851a0c4c8b3"
      },
      "source": [
        "criterion = nn.MSELoss()\n",
        "\n",
        "loss = criterion(output, target)\n",
        "print(loss)"
      ],
      "execution_count": null,
      "outputs": [
        {
          "output_type": "stream",
          "text": [
            "tensor(1.6489, grad_fn=<MseLossBackward>)\n"
          ],
          "name": "stdout"
        }
      ]
    },
    {
      "cell_type": "markdown",
      "metadata": {
        "id": "KqmAmwmV1oKP"
      },
      "source": [
        "`.grad_fn` 속성을 사용하여 `loss` 를 역방향에서 따라가다보면, 이러한 모습의 연산 그래프를 볼 수 있다"
      ]
    },
    {
      "cell_type": "markdown",
      "metadata": {
        "id": "HFppdxUR1oMk"
      },
      "source": [
        "input -> conv2d -> relu -> maxpool2d -> conv2d -> relu -> maxpool2d  \n",
        "      -> view -> linear -> relu -> linear -> relu -> linear  \n",
        "      -> MSELoss  \n",
        "      -> loss  "
      ]
    },
    {
      "cell_type": "markdown",
      "metadata": {
        "id": "J7zJBiv016CG"
      },
      "source": [
        "따라서 `loss.backward()` 를 실행할 때, 전체 그래프는 손실(loss)에 대하여 미분되며, 그래프 내의 `requires_grad=True` 인 모든 Tensor는 변화도(gradient)가 누적된 `.grad` Tensor를 갖게된다."
      ]
    },
    {
      "cell_type": "code",
      "metadata": {
        "colab": {
          "base_uri": "https://localhost:8080/"
        },
        "id": "t4GM4rh71ipS",
        "outputId": "924d9a6c-34bf-48f2-d7d2-103f9ee3836d"
      },
      "source": [
        "print(loss.grad_fn) # MSELoss\n",
        "print(loss.grad_fn.next_functions[0][0]) # Linear\n",
        "print(loss.grad_fn.next_functions[0][0].next_functions[0][0]) # ReLU"
      ],
      "execution_count": null,
      "outputs": [
        {
          "output_type": "stream",
          "text": [
            "<MseLossBackward object at 0x7fc0872c1470>\n",
            "<AddmmBackward object at 0x7fc0872c1f28>\n",
            "<AccumulateGrad object at 0x7fc0872c1470>\n"
          ],
          "name": "stdout"
        }
      ]
    },
    {
      "cell_type": "markdown",
      "metadata": {
        "id": "IRcbAGAG2Vkd"
      },
      "source": [
        "### Backprop"
      ]
    },
    {
      "cell_type": "markdown",
      "metadata": {
        "id": "S5OPK-bm2X0J"
      },
      "source": [
        "error를 backprop하기 위해서는 `loss.backward()` 만 해주면 된다. 기존 gradient를 없애는 작업이 필요한데, 그렇지 않으면 gradient가 기존의 것에 누적되기 때문입니다."
      ]
    },
    {
      "cell_type": "code",
      "metadata": {
        "colab": {
          "base_uri": "https://localhost:8080/"
        },
        "id": "Ow8WBgNv2RoB",
        "outputId": "2845292a-6bd1-4df2-a170-a1a5ca5143ae"
      },
      "source": [
        "net.zero_grad() # 모든 매개변수의 gradient buffer를 0으로 만듦\n",
        "\n",
        "print('conv1.bias.grad before backward')\n",
        "print(net.conv1.bias.grad)\n",
        "\n",
        "loss.backward()\n",
        "\n",
        "print('conv1.bias.grad after backward')\n",
        "print(net.conv1.bias.grad)"
      ],
      "execution_count": null,
      "outputs": [
        {
          "output_type": "stream",
          "text": [
            "conv1.bias.grad before backward\n",
            "tensor([0., 0., 0., 0., 0., 0.])\n",
            "conv1.bias.grad after backward\n",
            "tensor([ 0.0097, -0.0041,  0.0181, -0.0112,  0.0006, -0.0036])\n"
          ],
          "name": "stdout"
        }
      ]
    },
    {
      "cell_type": "markdown",
      "metadata": {
        "id": "YTeTaIX024er"
      },
      "source": [
        "[deep neural network를 구성하는 다양한 module과 loss function이 포함되어 있는 nn package](https://pytorch.org/docs/stable/nn.html)"
      ]
    },
    {
      "cell_type": "markdown",
      "metadata": {
        "id": "WrLR3ST73N-9"
      },
      "source": [
        "### Update the weights"
      ]
    },
    {
      "cell_type": "markdown",
      "metadata": {
        "id": "bb7jykEf3RMZ"
      },
      "source": [
        "실제로 많이 사용되는 가장 단순한 갱신 규칙은 SGD; Stochastic Gradient Descent  \n",
        "`새로운 가중치(weight) = 가중치(weight) - 학습률(learning rate) * 변화도(gradient)`\n",
        "\n"
      ]
    },
    {
      "cell_type": "code",
      "metadata": {
        "id": "f2cIh8462zsI"
      },
      "source": [
        "# 간단한 python code\n",
        "learning_rate = 0.01\n",
        "for f in net.parameters():\n",
        "    f.data.sub_(f.grad.data * learning_rate)"
      ],
      "execution_count": null,
      "outputs": []
    },
    {
      "cell_type": "markdown",
      "metadata": {
        "id": "ZwC1Z3FC3l7W"
      },
      "source": [
        "neural network를 구성할 때 SGD, Nesterov-SGD, Adam, RMSProp 등과 같은 다양한 갱신 규칙을 사용하고 싶을 수 있다. 이를 위해서 `torch.optim` 라는 작은 패키지에 이러한 방법들을 모두 구현되어 있다."
      ]
    },
    {
      "cell_type": "code",
      "metadata": {
        "id": "aN8bT8v13j8R"
      },
      "source": [
        "import torch.optim as optim\n",
        "\n",
        "# Optimizer를 생성\n",
        "optimizer = optim.SGD(net.parameters(), lr=0.01)\n",
        "\n",
        "# in training loop\n",
        "optimizer.zero_grad() # gradient buffer를 0으로\n",
        "output = net(input)\n",
        "loss = criterion(output, target)\n",
        "loss.backward()\n",
        "optimizer.step()"
      ],
      "execution_count": null,
      "outputs": []
    },
    {
      "cell_type": "markdown",
      "metadata": {
        "id": "b8cUvYPz4fBb"
      },
      "source": [
        "`optimizer.zero_grad()` 를 사용하여 수동으로 변화도 버퍼를 0으로 설정하는 것은 gradient가 누적되기 때문"
      ]
    }
  ]
}