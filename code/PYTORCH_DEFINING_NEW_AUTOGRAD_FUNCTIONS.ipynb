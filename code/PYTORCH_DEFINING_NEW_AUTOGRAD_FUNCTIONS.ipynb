{
  "nbformat": 4,
  "nbformat_minor": 0,
  "metadata": {
    "colab": {
      "name": "PYTORCH: DEFINING NEW AUTOGRAD FUNCTIONS.ipynb",
      "provenance": [],
      "collapsed_sections": [],
      "authorship_tag": "ABX9TyNoUsglnhMayru4NQyqAoTW",
      "include_colab_link": true
    },
    "kernelspec": {
      "name": "python3",
      "display_name": "Python 3"
    }
  },
  "cells": [
    {
      "cell_type": "markdown",
      "metadata": {
        "id": "view-in-github",
        "colab_type": "text"
      },
      "source": [
        "<a href=\"https://colab.research.google.com/github/JaeHeee/Pytorch_Tutorial/blob/main/code/PYTORCH_DEFINING_NEW_AUTOGRAD_FUNCTIONS.ipynb\" target=\"_parent\"><img src=\"https://colab.research.google.com/assets/colab-badge.svg\" alt=\"Open In Colab\"/></a>"
      ]
    },
    {
      "cell_type": "markdown",
      "metadata": {
        "id": "FQLf2Qjpf8bb"
      },
      "source": [
        "## PYTORCH: DEFINING NEW AUTOGRAD FUNCTIONS"
      ]
    },
    {
      "cell_type": "markdown",
      "metadata": {
        "id": "SufSDn7KgqPp"
      },
      "source": [
        "custom autograd Function을 구현하여 ReLU 기능을 수행하도록"
      ]
    },
    {
      "cell_type": "code",
      "metadata": {
        "colab": {
          "base_uri": "https://localhost:8080/"
        },
        "id": "R8j2vyaYf56A",
        "outputId": "102a7d6c-0394-4b28-bb1e-3e9fa274a587"
      },
      "source": [
        "import torch\n",
        "\n",
        "# torch.autograd.Function 상속받아서 custom autograd Functions 구현\n",
        "# Tensor 연산을 하는forward and backward pass 구현\n",
        "class MyReLU(torch.autograd.Function):\n",
        "    @staticmethod\n",
        "    def forward(ctx, input):\n",
        "        # ctx는 context object로 backward 연산을 위한 정보 저장에 사용\n",
        "        # ctx.save_for_backward method를 사용하여 backward pass 에서 사용할 어떠한 객체도 저장(cache) 가능\n",
        "        ctx.save_for_backward(input)\n",
        "        return input.clamp(min = 0)\n",
        "    \n",
        "    @staticmethod\n",
        "    def backward(ctx, grad_output):\n",
        "        input, = ctx.saved_tensors\n",
        "        grad_input = grad_output.clone()\n",
        "        grad_input[input < 0] = 0\n",
        "        return grad_input\n",
        "\n",
        "\n",
        "dtype = torch.float\n",
        "device = torch.device(\"cpu\")\n",
        "\n",
        "N, D_in, H, D_out = 64, 1000, 100, 10\n",
        "\n",
        "x = torch.randn(N, D_in, device=device, dtype=dtype)\n",
        "y = torch.randn(N, D_out, device=device, dtype=dtype)\n",
        "\n",
        "w1 = torch.randn(D_in, H, device=device, dtype=dtype, requires_grad=True)\n",
        "w2 = torch.randn(H, D_out, device=device, dtype=dtype, requires_grad=True)\n",
        "\n",
        "learning_rate = 1e-6\n",
        "for t in range(500):\n",
        "    # custom function을 적용하기 위해 Function.apply 사용\n",
        "    relu = MyReLU.apply\n",
        "    y_pred = relu(x.mm(w1)).mm(w2)\n",
        "\n",
        "    loss = (y_pred - y).pow(2).sum()\n",
        "    if t % 100 == 99:\n",
        "        print(t, loss.item())\n",
        "\n",
        "    loss.backward()\n",
        "\n",
        "    with torch.no_grad():\n",
        "        w1 -= learning_rate * w1.grad\n",
        "        w2 -= learning_rate * w2.grad\n",
        "    \n",
        "        w1.grad.zero_()\n",
        "        w2.grad.zero_()  "
      ],
      "execution_count": null,
      "outputs": [
        {
          "output_type": "stream",
          "text": [
            "99 579.15966796875\n",
            "199 1.6684973239898682\n",
            "299 0.0074860998429358006\n",
            "399 0.00016995223995763808\n",
            "499 3.117273445241153e-05\n"
          ],
          "name": "stdout"
        }
      ]
    },
    {
      "cell_type": "code",
      "metadata": {
        "id": "pBtgqg4FjPdI"
      },
      "source": [
        ""
      ],
      "execution_count": null,
      "outputs": []
    }
  ]
}