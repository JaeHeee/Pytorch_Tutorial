{
  "nbformat": 4,
  "nbformat_minor": 0,
  "metadata": {
    "colab": {
      "name": "What is Pytorch.ipynb",
      "provenance": [],
      "collapsed_sections": [],
      "authorship_tag": "ABX9TyMilIis+79kxSU2iYBTC9kU",
      "include_colab_link": true
    },
    "kernelspec": {
      "name": "python3",
      "display_name": "Python 3"
    },
    "accelerator": "GPU"
  },
  "cells": [
    {
      "cell_type": "markdown",
      "metadata": {
        "id": "view-in-github",
        "colab_type": "text"
      },
      "source": [
        "<a href=\"https://colab.research.google.com/github/JaeHeee/Pytorch_Tutorial/blob/main/code/What_is_Pytorch.ipynb\" target=\"_parent\"><img src=\"https://colab.research.google.com/assets/colab-badge.svg\" alt=\"Open In Colab\"/></a>"
      ]
    },
    {
      "cell_type": "code",
      "metadata": {
        "id": "2fJ1iisI8l9s"
      },
      "source": [
        "from __future__ import print_function\n",
        "import torch"
      ],
      "execution_count": null,
      "outputs": []
    },
    {
      "cell_type": "markdown",
      "metadata": {
        "id": "DWySG7J79H6a"
      },
      "source": [
        "### Tensor"
      ]
    },
    {
      "cell_type": "markdown",
      "metadata": {
        "id": "u6u5MWAC9zek"
      },
      "source": [
        "Tensor는 NumPy의 ndarray와 유사하며, GPU를 사용한 연산 가속도 가능합니다."
      ]
    },
    {
      "cell_type": "markdown",
      "metadata": {
        "id": "DT1s_76M8-2L"
      },
      "source": [
        "초기화되지 않은 5x3 행렬 생성"
      ]
    },
    {
      "cell_type": "code",
      "metadata": {
        "colab": {
          "base_uri": "https://localhost:8080/"
        },
        "id": "RekKIJLL80Cv",
        "outputId": "a06a2ae6-0f36-4412-f4a1-355ee9ff6c42"
      },
      "source": [
        "x = torch.empty(5, 3)\n",
        "print(x)"
      ],
      "execution_count": null,
      "outputs": [
        {
          "output_type": "stream",
          "text": [
            "tensor([[3.2977e-35, 0.0000e+00, 3.3631e-44],\n",
            "        [0.0000e+00,        nan, 0.0000e+00],\n",
            "        [1.1578e+27, 1.1362e+30, 7.1547e+22],\n",
            "        [4.5828e+30, 1.2121e+04, 7.1846e+22],\n",
            "        [9.2198e-39, 7.0374e+22, 1.1129e-35]])\n"
          ],
          "name": "stdout"
        }
      ]
    },
    {
      "cell_type": "markdown",
      "metadata": {
        "id": "zhtbYeK_9Nd1"
      },
      "source": [
        "무작위로 초기화된 행렬 생성"
      ]
    },
    {
      "cell_type": "code",
      "metadata": {
        "colab": {
          "base_uri": "https://localhost:8080/"
        },
        "id": "h7vgQv2X86z7",
        "outputId": "c7a271e1-007d-49b7-b94d-6860b1e2759e"
      },
      "source": [
        "x = torch.rand(5, 3)\n",
        "print(x)"
      ],
      "execution_count": null,
      "outputs": [
        {
          "output_type": "stream",
          "text": [
            "tensor([[0.7472, 0.7015, 0.3151],\n",
            "        [0.9469, 0.5415, 0.4592],\n",
            "        [0.6100, 0.7473, 0.9075],\n",
            "        [0.3795, 0.0323, 0.2699],\n",
            "        [0.2553, 0.7476, 0.0514]])\n"
          ],
          "name": "stdout"
        }
      ]
    },
    {
      "cell_type": "markdown",
      "metadata": {
        "id": "-k0gYVY39Vl0"
      },
      "source": [
        "dtype이 long이고 0으로 채워진 행렬 생성"
      ]
    },
    {
      "cell_type": "code",
      "metadata": {
        "colab": {
          "base_uri": "https://localhost:8080/"
        },
        "id": "2AWa6ber9SOs",
        "outputId": "df787c0f-51cb-4d40-9f88-cf41f8b3efbc"
      },
      "source": [
        "x = torch.zeros(5, 3, dtype=torch.long)\n",
        "print(x)"
      ],
      "execution_count": null,
      "outputs": [
        {
          "output_type": "stream",
          "text": [
            "tensor([[0, 0, 0],\n",
            "        [0, 0, 0],\n",
            "        [0, 0, 0],\n",
            "        [0, 0, 0],\n",
            "        [0, 0, 0]])\n"
          ],
          "name": "stdout"
        }
      ]
    },
    {
      "cell_type": "markdown",
      "metadata": {
        "id": "w2erbZPL9sRc"
      },
      "source": [
        "데이터로부터 tensor를 직접 생성"
      ]
    },
    {
      "cell_type": "code",
      "metadata": {
        "colab": {
          "base_uri": "https://localhost:8080/"
        },
        "id": "3PV5Cx5G9guw",
        "outputId": "df54d948-f06c-477c-b3be-087f07187fc4"
      },
      "source": [
        "x = torch.tensor([5.5, 3])\n",
        "print(x)"
      ],
      "execution_count": null,
      "outputs": [
        {
          "output_type": "stream",
          "text": [
            "tensor([5.5000, 3.0000])\n"
          ],
          "name": "stdout"
        }
      ]
    },
    {
      "cell_type": "markdown",
      "metadata": {
        "id": "gOtZUJlt-QUA"
      },
      "source": [
        "기존 tensor를 바탕으로 새로운 tensor를 생성. 이들 메소드(method)는 사용자로부터 새로운 값을 제공받지 않은 한, 입력 tensor의 속성들(e.g. dtype)을 재사용"
      ]
    },
    {
      "cell_type": "code",
      "metadata": {
        "colab": {
          "base_uri": "https://localhost:8080/"
        },
        "id": "IQP632u29u6p",
        "outputId": "4059c8a9-3f94-42d5-e570-ec9bca8a15f5"
      },
      "source": [
        "x = x.new_ones(5, 3, dtype=torch.double)\n",
        "print(x)"
      ],
      "execution_count": null,
      "outputs": [
        {
          "output_type": "stream",
          "text": [
            "tensor([[1., 1., 1.],\n",
            "        [1., 1., 1.],\n",
            "        [1., 1., 1.],\n",
            "        [1., 1., 1.],\n",
            "        [1., 1., 1.]], dtype=torch.float64)\n"
          ],
          "name": "stdout"
        }
      ]
    },
    {
      "cell_type": "code",
      "metadata": {
        "colab": {
          "base_uri": "https://localhost:8080/"
        },
        "id": "SAp2hWdL-332",
        "outputId": "5ef49e46-049c-414a-ff2f-d5492a8ebd38"
      },
      "source": [
        "# dtype을 override\n",
        "# 결과는 동일한 크기\n",
        "x = torch.rand_like(x, dtype=torch.float)\n",
        "x"
      ],
      "execution_count": null,
      "outputs": [
        {
          "output_type": "execute_result",
          "data": {
            "text/plain": [
              "tensor([[0.0857, 0.5868, 0.1076],\n",
              "        [0.6086, 0.7671, 0.9627],\n",
              "        [0.6494, 0.3762, 0.6607],\n",
              "        [0.6540, 0.3319, 0.5362],\n",
              "        [0.3955, 0.2511, 0.0933]])"
            ]
          },
          "metadata": {
            "tags": []
          },
          "execution_count": 7
        }
      ]
    },
    {
      "cell_type": "markdown",
      "metadata": {
        "id": "7vDPB_i__WEu"
      },
      "source": [
        "행렬의 크기"
      ]
    },
    {
      "cell_type": "code",
      "metadata": {
        "colab": {
          "base_uri": "https://localhost:8080/"
        },
        "id": "5IqGtutU_EXE",
        "outputId": "a9ae945f-7e50-4c15-b0a6-1086fffc60a3"
      },
      "source": [
        "print(x.size())\n",
        "# torch.Size는 tuple로, 모든 tuple 연산을 지원"
      ],
      "execution_count": null,
      "outputs": [
        {
          "output_type": "stream",
          "text": [
            "torch.Size([5, 3])\n"
          ],
          "name": "stdout"
        }
      ]
    },
    {
      "cell_type": "markdown",
      "metadata": {
        "id": "6T49M5Gr_iry"
      },
      "source": [
        "### Operations"
      ]
    },
    {
      "cell_type": "markdown",
      "metadata": {
        "id": "YPKjPED9_t4h"
      },
      "source": [
        "덧셈 - 1"
      ]
    },
    {
      "cell_type": "code",
      "metadata": {
        "colab": {
          "base_uri": "https://localhost:8080/"
        },
        "id": "QAyKJLpV_ZaL",
        "outputId": "76d4437f-615c-41fe-e590-59b008153c12"
      },
      "source": [
        "y = torch.rand(5, 3)\n",
        "print(y)"
      ],
      "execution_count": null,
      "outputs": [
        {
          "output_type": "stream",
          "text": [
            "tensor([[0.0553, 0.1098, 0.4258],\n",
            "        [0.1175, 0.7579, 0.8009],\n",
            "        [0.8073, 0.4464, 0.7548],\n",
            "        [0.2055, 0.1834, 0.3515],\n",
            "        [0.9077, 0.9543, 0.4420]])\n"
          ],
          "name": "stdout"
        }
      ]
    },
    {
      "cell_type": "code",
      "metadata": {
        "colab": {
          "base_uri": "https://localhost:8080/"
        },
        "id": "R5NajxGe_qkA",
        "outputId": "46556ab6-9539-4345-fc29-5021a0485411"
      },
      "source": [
        "x"
      ],
      "execution_count": null,
      "outputs": [
        {
          "output_type": "execute_result",
          "data": {
            "text/plain": [
              "tensor([[0.0857, 0.5868, 0.1076],\n",
              "        [0.6086, 0.7671, 0.9627],\n",
              "        [0.6494, 0.3762, 0.6607],\n",
              "        [0.6540, 0.3319, 0.5362],\n",
              "        [0.3955, 0.2511, 0.0933]])"
            ]
          },
          "metadata": {
            "tags": []
          },
          "execution_count": 10
        }
      ]
    },
    {
      "cell_type": "code",
      "metadata": {
        "colab": {
          "base_uri": "https://localhost:8080/"
        },
        "id": "t9bywcts_q40",
        "outputId": "74dca6c3-c0bc-4c9b-bd95-acd89a9028e1"
      },
      "source": [
        "print(x+y)"
      ],
      "execution_count": null,
      "outputs": [
        {
          "output_type": "stream",
          "text": [
            "tensor([[0.1410, 0.6966, 0.5333],\n",
            "        [0.7261, 1.5250, 1.7636],\n",
            "        [1.4567, 0.8226, 1.4155],\n",
            "        [0.8595, 0.5153, 0.8877],\n",
            "        [1.3032, 1.2054, 0.5353]])\n"
          ],
          "name": "stdout"
        }
      ]
    },
    {
      "cell_type": "markdown",
      "metadata": {
        "id": "cOrYwOr7_0EJ"
      },
      "source": [
        "덧셈 - 2"
      ]
    },
    {
      "cell_type": "code",
      "metadata": {
        "colab": {
          "base_uri": "https://localhost:8080/"
        },
        "id": "_1dTpoOI_siQ",
        "outputId": "cb391efa-f78b-4c4f-cb77-7283dcf48837"
      },
      "source": [
        "print(torch.add(x,y))"
      ],
      "execution_count": null,
      "outputs": [
        {
          "output_type": "stream",
          "text": [
            "tensor([[0.1410, 0.6966, 0.5333],\n",
            "        [0.7261, 1.5250, 1.7636],\n",
            "        [1.4567, 0.8226, 1.4155],\n",
            "        [0.8595, 0.5153, 0.8877],\n",
            "        [1.3032, 1.2054, 0.5353]])\n"
          ],
          "name": "stdout"
        }
      ]
    },
    {
      "cell_type": "markdown",
      "metadata": {
        "id": "eVbgm-8m_7u3"
      },
      "source": [
        "덧셈 - 결과 tensor를 인자로 제공"
      ]
    },
    {
      "cell_type": "code",
      "metadata": {
        "colab": {
          "base_uri": "https://localhost:8080/"
        },
        "id": "Gu7ZXUyZ_3cy",
        "outputId": "19872b2e-832b-417f-dd8b-16af5ef20778"
      },
      "source": [
        "result = torch.empty(5, 3)\n",
        "torch.add(x, y, out=result)\n",
        "print(result)"
      ],
      "execution_count": null,
      "outputs": [
        {
          "output_type": "stream",
          "text": [
            "tensor([[0.1410, 0.6966, 0.5333],\n",
            "        [0.7261, 1.5250, 1.7636],\n",
            "        [1.4567, 0.8226, 1.4155],\n",
            "        [0.8595, 0.5153, 0.8877],\n",
            "        [1.3032, 1.2054, 0.5353]])\n"
          ],
          "name": "stdout"
        }
      ]
    },
    {
      "cell_type": "markdown",
      "metadata": {
        "id": "KJEIfTR1AffH"
      },
      "source": [
        "덧셈 - in-place 방식"
      ]
    },
    {
      "cell_type": "code",
      "metadata": {
        "colab": {
          "base_uri": "https://localhost:8080/"
        },
        "id": "kdgKfK9dAFYD",
        "outputId": "393cd6b1-fdfb-4186-823b-977c34d86516"
      },
      "source": [
        "# in-place 방식으로 tensor의 값을 변경하는 연산 뒤에는 _''가 붙음. e.g. ''x.copy_(y),x.t_()는 x를 변경\n",
        "y.add_(x)\n",
        "print(y)"
      ],
      "execution_count": null,
      "outputs": [
        {
          "output_type": "stream",
          "text": [
            "tensor([[0.1410, 0.6966, 0.5333],\n",
            "        [0.7261, 1.5250, 1.7636],\n",
            "        [1.4567, 0.8226, 1.4155],\n",
            "        [0.8595, 0.5153, 0.8877],\n",
            "        [1.3032, 1.2054, 0.5353]])\n"
          ],
          "name": "stdout"
        }
      ]
    },
    {
      "cell_type": "markdown",
      "metadata": {
        "id": "dy9Ia8hNAoh4"
      },
      "source": [
        "NumPy스러운 인덱싱 표기 방법을 사용 가능"
      ]
    },
    {
      "cell_type": "code",
      "metadata": {
        "colab": {
          "base_uri": "https://localhost:8080/"
        },
        "id": "05dGTVNCAlCe",
        "outputId": "573e5b0c-546a-42a0-ae80-316d7f7430f3"
      },
      "source": [
        "print(x[:, 1])"
      ],
      "execution_count": null,
      "outputs": [
        {
          "output_type": "stream",
          "text": [
            "tensor([0.5868, 0.7671, 0.3762, 0.3319, 0.2511])\n"
          ],
          "name": "stdout"
        }
      ]
    },
    {
      "cell_type": "markdown",
      "metadata": {
        "id": "yY7UOuRFBSjZ"
      },
      "source": [
        "크기 변경 : tensor의 크기(size)나 모양(shape)을 변경하고 싶다면 `torch.view`를 사용"
      ]
    },
    {
      "cell_type": "code",
      "metadata": {
        "colab": {
          "base_uri": "https://localhost:8080/"
        },
        "id": "EoGb1NVMBJrr",
        "outputId": "1dd64369-df8c-424c-e952-b681c2b23a75"
      },
      "source": [
        "x = torch.randn(4, 4)\n",
        "y = x.view(16)\n",
        "z = x.view(-1, 8)\n",
        "print(x.size(), y.size(), z.size())"
      ],
      "execution_count": null,
      "outputs": [
        {
          "output_type": "stream",
          "text": [
            "torch.Size([4, 4]) torch.Size([16]) torch.Size([2, 8])\n"
          ],
          "name": "stdout"
        }
      ]
    },
    {
      "cell_type": "markdown",
      "metadata": {
        "id": "798DThM_Booh"
      },
      "source": [
        "tensor에 하나의 값만 존재한다면, `.item()`을 사용하여 숫자 값을 얻을 수 있음"
      ]
    },
    {
      "cell_type": "code",
      "metadata": {
        "colab": {
          "base_uri": "https://localhost:8080/"
        },
        "id": "83iXxx6uBjp1",
        "outputId": "91651727-16a8-4a2c-951c-d8a10f204633"
      },
      "source": [
        "x = torch.randn(1)\n",
        "print(x)\n",
        "print(x.item())"
      ],
      "execution_count": null,
      "outputs": [
        {
          "output_type": "stream",
          "text": [
            "tensor([-2.1679])\n",
            "-2.1678531169891357\n"
          ],
          "name": "stdout"
        }
      ]
    },
    {
      "cell_type": "markdown",
      "metadata": {
        "id": "scyjG5sgCLiN"
      },
      "source": [
        "전치(transposing), 인덱싱(indexing), 슬라이싱(slicing), 수학 계산, 선형 대수, 난수(random number) 등, 100가지 이상의 [Tensor 연산](https://pytorch.org/docs/stable/torch.html)"
      ]
    },
    {
      "cell_type": "markdown",
      "metadata": {
        "id": "c7rq90jKCYD9"
      },
      "source": [
        "### NumPy 변환 (Bridge)"
      ]
    },
    {
      "cell_type": "markdown",
      "metadata": {
        "id": "O7sDDP30CeaD"
      },
      "source": [
        "(Torch Tensor가 CPU 상에 있다면) Torch Tensor와 NumPy 배열은 메모리 공간을 공유하기 때문에, 하나를 변경하면 다른 하나도 변경 가능"
      ]
    },
    {
      "cell_type": "markdown",
      "metadata": {
        "id": "Ntk8dbv8Clyu"
      },
      "source": [
        "#### Torch Tensor를 NumPy 배열로 변환"
      ]
    },
    {
      "cell_type": "code",
      "metadata": {
        "colab": {
          "base_uri": "https://localhost:8080/"
        },
        "id": "bg-PMfJGCCgq",
        "outputId": "883fd087-1526-4967-de0b-ca178370eb8a"
      },
      "source": [
        "a = torch.ones(5)\n",
        "print(a)"
      ],
      "execution_count": null,
      "outputs": [
        {
          "output_type": "stream",
          "text": [
            "tensor([1., 1., 1., 1., 1.])\n"
          ],
          "name": "stdout"
        }
      ]
    },
    {
      "cell_type": "code",
      "metadata": {
        "colab": {
          "base_uri": "https://localhost:8080/"
        },
        "id": "tYRRFm9oC3W4",
        "outputId": "de9d5ed8-1a75-4fa1-f9d8-36c284b74f57"
      },
      "source": [
        "b = a.numpy()\n",
        "print(b)\n",
        "print(type(b))"
      ],
      "execution_count": null,
      "outputs": [
        {
          "output_type": "stream",
          "text": [
            "[1. 1. 1. 1. 1.]\n",
            "<class 'numpy.ndarray'>\n"
          ],
          "name": "stdout"
        }
      ]
    },
    {
      "cell_type": "markdown",
      "metadata": {
        "id": "ZVqtb52tC-Jz"
      },
      "source": [
        "NumPy 배열의 값이 어떻게 변하는지 확인"
      ]
    },
    {
      "cell_type": "code",
      "metadata": {
        "colab": {
          "base_uri": "https://localhost:8080/"
        },
        "id": "oQQv4S48C6yu",
        "outputId": "d4ecdd73-a578-40a8-eff8-d8dc000e228c"
      },
      "source": [
        "a.add_(1)\n",
        "print(a)\n",
        "print(b)"
      ],
      "execution_count": null,
      "outputs": [
        {
          "output_type": "stream",
          "text": [
            "tensor([2., 2., 2., 2., 2.])\n",
            "[2. 2. 2. 2. 2.]\n"
          ],
          "name": "stdout"
        }
      ]
    },
    {
      "cell_type": "markdown",
      "metadata": {
        "id": "6VdwqblKDFX0"
      },
      "source": [
        "#### NumPy 배열을 Torch Tensor로 변환"
      ]
    },
    {
      "cell_type": "markdown",
      "metadata": {
        "id": "snuxwpqKDLAg"
      },
      "source": [
        "np (NumPy) 배열을 변경하면 Torch Tensor의 값도 자동 변경됨"
      ]
    },
    {
      "cell_type": "code",
      "metadata": {
        "colab": {
          "base_uri": "https://localhost:8080/"
        },
        "id": "V3_C5f0vDDIW",
        "outputId": "d0c150ba-7226-4b57-91b2-940fe67177da"
      },
      "source": [
        "import numpy as np\n",
        "a = np.ones(5)\n",
        "b = torch.from_numpy(a)\n",
        "np.add(a, 1, out=a)\n",
        "print(a)\n",
        "print(b)"
      ],
      "execution_count": null,
      "outputs": [
        {
          "output_type": "stream",
          "text": [
            "[2. 2. 2. 2. 2.]\n",
            "tensor([2., 2., 2., 2., 2.], dtype=torch.float64)\n"
          ],
          "name": "stdout"
        }
      ]
    },
    {
      "cell_type": "markdown",
      "metadata": {
        "id": "pKkqxkEKDe7U"
      },
      "source": [
        "CharTensor를 제외한 CPU 상의 모든 Tensor는 NumPy로 변환할 수 있고, (NumPy에서 Tensor로의) 반대 변환도 가능"
      ]
    },
    {
      "cell_type": "markdown",
      "metadata": {
        "id": "qSvT3p39Dnqc"
      },
      "source": [
        "### CUDA Tensors"
      ]
    },
    {
      "cell_type": "markdown",
      "metadata": {
        "id": "UmtHFzLeDqdW"
      },
      "source": [
        "`.to` 메소드를 사용하여 Tensor를 어떠한 장치로도 옮길 수 있음"
      ]
    },
    {
      "cell_type": "code",
      "metadata": {
        "colab": {
          "base_uri": "https://localhost:8080/"
        },
        "id": "eb9v-yH9DbIb",
        "outputId": "3436021b-36bd-4cd7-baee-7b70b4c603e0"
      },
      "source": [
        "# ''torch.device'' 를 사용하여 tensor를 GPU 안팎으로 이동\n",
        "if torch.cuda.is_available():\n",
        "    device = torch.device(\"cuda\") # CUDA 장치 객체(device object)로\n",
        "    y = torch.ones_like(x, device=device) # GPU 상에 직접적으로 tensor를 생성\n",
        "    x = x.to(device) # ''.to(\"cuda\")''를 사용\n",
        "    z = x + y\n",
        "    print(z)\n",
        "    print(z.to(\"cpu\", torch.double)) # ''.to'' 는 dtype도 함께 변경"
      ],
      "execution_count": null,
      "outputs": [
        {
          "output_type": "stream",
          "text": [
            "tensor([-1.1679], device='cuda:0')\n",
            "tensor([-1.1679], dtype=torch.float64)\n"
          ],
          "name": "stdout"
        }
      ]
    }
  ]
}