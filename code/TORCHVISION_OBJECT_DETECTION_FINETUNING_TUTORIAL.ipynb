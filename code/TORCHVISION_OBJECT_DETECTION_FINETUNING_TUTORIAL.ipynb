{
  "nbformat": 4,
  "nbformat_minor": 0,
  "metadata": {
    "colab": {
      "name": "TORCHVISION OBJECT DETECTION FINETUNING TUTORIAL.ipynb",
      "provenance": [],
      "mount_file_id": "1Hq52yv_lpUiVR_BJDkUXJfg649lH8WeI",
      "authorship_tag": "ABX9TyOY7K4f6Ef42DzYbOglLMsS",
      "include_colab_link": true
    },
    "kernelspec": {
      "name": "python3",
      "display_name": "Python 3"
    },
    "accelerator": "GPU",
    "widgets": {
      "application/vnd.jupyter.widget-state+json": {
        "a8ef6a12038b46ddbcbc4eb5432af264": {
          "model_module": "@jupyter-widgets/controls",
          "model_name": "HBoxModel",
          "state": {
            "_view_name": "HBoxView",
            "_dom_classes": [],
            "_model_name": "HBoxModel",
            "_view_module": "@jupyter-widgets/controls",
            "_model_module_version": "1.5.0",
            "_view_count": null,
            "_view_module_version": "1.5.0",
            "box_style": "",
            "layout": "IPY_MODEL_b11b8b9f219e41f29b7305e63c26d5a5",
            "_model_module": "@jupyter-widgets/controls",
            "children": [
              "IPY_MODEL_0cf18ed5961e4b4f87f7e35c3add42fa",
              "IPY_MODEL_b7d6bb61ac5741e6b30dbc3f7941398d"
            ]
          }
        },
        "b11b8b9f219e41f29b7305e63c26d5a5": {
          "model_module": "@jupyter-widgets/base",
          "model_name": "LayoutModel",
          "state": {
            "_view_name": "LayoutView",
            "grid_template_rows": null,
            "right": null,
            "justify_content": null,
            "_view_module": "@jupyter-widgets/base",
            "overflow": null,
            "_model_module_version": "1.2.0",
            "_view_count": null,
            "flex_flow": null,
            "width": null,
            "min_width": null,
            "border": null,
            "align_items": null,
            "bottom": null,
            "_model_module": "@jupyter-widgets/base",
            "top": null,
            "grid_column": null,
            "overflow_y": null,
            "overflow_x": null,
            "grid_auto_flow": null,
            "grid_area": null,
            "grid_template_columns": null,
            "flex": null,
            "_model_name": "LayoutModel",
            "justify_items": null,
            "grid_row": null,
            "max_height": null,
            "align_content": null,
            "visibility": null,
            "align_self": null,
            "height": null,
            "min_height": null,
            "padding": null,
            "grid_auto_rows": null,
            "grid_gap": null,
            "max_width": null,
            "order": null,
            "_view_module_version": "1.2.0",
            "grid_template_areas": null,
            "object_position": null,
            "object_fit": null,
            "grid_auto_columns": null,
            "margin": null,
            "display": null,
            "left": null
          }
        },
        "0cf18ed5961e4b4f87f7e35c3add42fa": {
          "model_module": "@jupyter-widgets/controls",
          "model_name": "FloatProgressModel",
          "state": {
            "_view_name": "ProgressView",
            "style": "IPY_MODEL_f6687afade86490ebdadee0ef86c68b2",
            "_dom_classes": [],
            "description": "100%",
            "_model_name": "FloatProgressModel",
            "bar_style": "success",
            "max": 167502836,
            "_view_module": "@jupyter-widgets/controls",
            "_model_module_version": "1.5.0",
            "value": 167502836,
            "_view_count": null,
            "_view_module_version": "1.5.0",
            "orientation": "horizontal",
            "min": 0,
            "description_tooltip": null,
            "_model_module": "@jupyter-widgets/controls",
            "layout": "IPY_MODEL_6363147b0bef465faf525a208405da5d"
          }
        },
        "b7d6bb61ac5741e6b30dbc3f7941398d": {
          "model_module": "@jupyter-widgets/controls",
          "model_name": "HTMLModel",
          "state": {
            "_view_name": "HTMLView",
            "style": "IPY_MODEL_4307942de1e54ecc865bd655b07a643b",
            "_dom_classes": [],
            "description": "",
            "_model_name": "HTMLModel",
            "placeholder": "​",
            "_view_module": "@jupyter-widgets/controls",
            "_model_module_version": "1.5.0",
            "value": " 160M/160M [00:01&lt;00:00, 123MB/s]",
            "_view_count": null,
            "_view_module_version": "1.5.0",
            "description_tooltip": null,
            "_model_module": "@jupyter-widgets/controls",
            "layout": "IPY_MODEL_7f7083eb36384424a04869365770d53d"
          }
        },
        "f6687afade86490ebdadee0ef86c68b2": {
          "model_module": "@jupyter-widgets/controls",
          "model_name": "ProgressStyleModel",
          "state": {
            "_view_name": "StyleView",
            "_model_name": "ProgressStyleModel",
            "description_width": "initial",
            "_view_module": "@jupyter-widgets/base",
            "_model_module_version": "1.5.0",
            "_view_count": null,
            "_view_module_version": "1.2.0",
            "bar_color": null,
            "_model_module": "@jupyter-widgets/controls"
          }
        },
        "6363147b0bef465faf525a208405da5d": {
          "model_module": "@jupyter-widgets/base",
          "model_name": "LayoutModel",
          "state": {
            "_view_name": "LayoutView",
            "grid_template_rows": null,
            "right": null,
            "justify_content": null,
            "_view_module": "@jupyter-widgets/base",
            "overflow": null,
            "_model_module_version": "1.2.0",
            "_view_count": null,
            "flex_flow": null,
            "width": null,
            "min_width": null,
            "border": null,
            "align_items": null,
            "bottom": null,
            "_model_module": "@jupyter-widgets/base",
            "top": null,
            "grid_column": null,
            "overflow_y": null,
            "overflow_x": null,
            "grid_auto_flow": null,
            "grid_area": null,
            "grid_template_columns": null,
            "flex": null,
            "_model_name": "LayoutModel",
            "justify_items": null,
            "grid_row": null,
            "max_height": null,
            "align_content": null,
            "visibility": null,
            "align_self": null,
            "height": null,
            "min_height": null,
            "padding": null,
            "grid_auto_rows": null,
            "grid_gap": null,
            "max_width": null,
            "order": null,
            "_view_module_version": "1.2.0",
            "grid_template_areas": null,
            "object_position": null,
            "object_fit": null,
            "grid_auto_columns": null,
            "margin": null,
            "display": null,
            "left": null
          }
        },
        "4307942de1e54ecc865bd655b07a643b": {
          "model_module": "@jupyter-widgets/controls",
          "model_name": "DescriptionStyleModel",
          "state": {
            "_view_name": "StyleView",
            "_model_name": "DescriptionStyleModel",
            "description_width": "",
            "_view_module": "@jupyter-widgets/base",
            "_model_module_version": "1.5.0",
            "_view_count": null,
            "_view_module_version": "1.2.0",
            "_model_module": "@jupyter-widgets/controls"
          }
        },
        "7f7083eb36384424a04869365770d53d": {
          "model_module": "@jupyter-widgets/base",
          "model_name": "LayoutModel",
          "state": {
            "_view_name": "LayoutView",
            "grid_template_rows": null,
            "right": null,
            "justify_content": null,
            "_view_module": "@jupyter-widgets/base",
            "overflow": null,
            "_model_module_version": "1.2.0",
            "_view_count": null,
            "flex_flow": null,
            "width": null,
            "min_width": null,
            "border": null,
            "align_items": null,
            "bottom": null,
            "_model_module": "@jupyter-widgets/base",
            "top": null,
            "grid_column": null,
            "overflow_y": null,
            "overflow_x": null,
            "grid_auto_flow": null,
            "grid_area": null,
            "grid_template_columns": null,
            "flex": null,
            "_model_name": "LayoutModel",
            "justify_items": null,
            "grid_row": null,
            "max_height": null,
            "align_content": null,
            "visibility": null,
            "align_self": null,
            "height": null,
            "min_height": null,
            "padding": null,
            "grid_auto_rows": null,
            "grid_gap": null,
            "max_width": null,
            "order": null,
            "_view_module_version": "1.2.0",
            "grid_template_areas": null,
            "object_position": null,
            "object_fit": null,
            "grid_auto_columns": null,
            "margin": null,
            "display": null,
            "left": null
          }
        },
        "0cc1cbf8a95243c99a3feb8facd0ec50": {
          "model_module": "@jupyter-widgets/controls",
          "model_name": "HBoxModel",
          "state": {
            "_view_name": "HBoxView",
            "_dom_classes": [],
            "_model_name": "HBoxModel",
            "_view_module": "@jupyter-widgets/controls",
            "_model_module_version": "1.5.0",
            "_view_count": null,
            "_view_module_version": "1.5.0",
            "box_style": "",
            "layout": "IPY_MODEL_75bc1ba1927c4a6db4eea352aa871678",
            "_model_module": "@jupyter-widgets/controls",
            "children": [
              "IPY_MODEL_e6cd47f6b1f14774a4b6712a6bc8c21a",
              "IPY_MODEL_9fecfd9fe7d34fedab2c73b45f12416f"
            ]
          }
        },
        "75bc1ba1927c4a6db4eea352aa871678": {
          "model_module": "@jupyter-widgets/base",
          "model_name": "LayoutModel",
          "state": {
            "_view_name": "LayoutView",
            "grid_template_rows": null,
            "right": null,
            "justify_content": null,
            "_view_module": "@jupyter-widgets/base",
            "overflow": null,
            "_model_module_version": "1.2.0",
            "_view_count": null,
            "flex_flow": null,
            "width": null,
            "min_width": null,
            "border": null,
            "align_items": null,
            "bottom": null,
            "_model_module": "@jupyter-widgets/base",
            "top": null,
            "grid_column": null,
            "overflow_y": null,
            "overflow_x": null,
            "grid_auto_flow": null,
            "grid_area": null,
            "grid_template_columns": null,
            "flex": null,
            "_model_name": "LayoutModel",
            "justify_items": null,
            "grid_row": null,
            "max_height": null,
            "align_content": null,
            "visibility": null,
            "align_self": null,
            "height": null,
            "min_height": null,
            "padding": null,
            "grid_auto_rows": null,
            "grid_gap": null,
            "max_width": null,
            "order": null,
            "_view_module_version": "1.2.0",
            "grid_template_areas": null,
            "object_position": null,
            "object_fit": null,
            "grid_auto_columns": null,
            "margin": null,
            "display": null,
            "left": null
          }
        },
        "e6cd47f6b1f14774a4b6712a6bc8c21a": {
          "model_module": "@jupyter-widgets/controls",
          "model_name": "FloatProgressModel",
          "state": {
            "_view_name": "ProgressView",
            "style": "IPY_MODEL_e9f460805fd6486dbb5dc253aff4398f",
            "_dom_classes": [],
            "description": "100%",
            "_model_name": "FloatProgressModel",
            "bar_style": "success",
            "max": 14212972,
            "_view_module": "@jupyter-widgets/controls",
            "_model_module_version": "1.5.0",
            "value": 14212972,
            "_view_count": null,
            "_view_module_version": "1.5.0",
            "orientation": "horizontal",
            "min": 0,
            "description_tooltip": null,
            "_model_module": "@jupyter-widgets/controls",
            "layout": "IPY_MODEL_c2d7d97299694e4bb37af635e630a320"
          }
        },
        "9fecfd9fe7d34fedab2c73b45f12416f": {
          "model_module": "@jupyter-widgets/controls",
          "model_name": "HTMLModel",
          "state": {
            "_view_name": "HTMLView",
            "style": "IPY_MODEL_e9f2e898adee46249081dd0429fecca2",
            "_dom_classes": [],
            "description": "",
            "_model_name": "HTMLModel",
            "placeholder": "​",
            "_view_module": "@jupyter-widgets/controls",
            "_model_module_version": "1.5.0",
            "value": " 13.6M/13.6M [00:00&lt;00:00, 63.0MB/s]",
            "_view_count": null,
            "_view_module_version": "1.5.0",
            "description_tooltip": null,
            "_model_module": "@jupyter-widgets/controls",
            "layout": "IPY_MODEL_0340afe8c7e64bb5ac10a700064924d3"
          }
        },
        "e9f460805fd6486dbb5dc253aff4398f": {
          "model_module": "@jupyter-widgets/controls",
          "model_name": "ProgressStyleModel",
          "state": {
            "_view_name": "StyleView",
            "_model_name": "ProgressStyleModel",
            "description_width": "initial",
            "_view_module": "@jupyter-widgets/base",
            "_model_module_version": "1.5.0",
            "_view_count": null,
            "_view_module_version": "1.2.0",
            "bar_color": null,
            "_model_module": "@jupyter-widgets/controls"
          }
        },
        "c2d7d97299694e4bb37af635e630a320": {
          "model_module": "@jupyter-widgets/base",
          "model_name": "LayoutModel",
          "state": {
            "_view_name": "LayoutView",
            "grid_template_rows": null,
            "right": null,
            "justify_content": null,
            "_view_module": "@jupyter-widgets/base",
            "overflow": null,
            "_model_module_version": "1.2.0",
            "_view_count": null,
            "flex_flow": null,
            "width": null,
            "min_width": null,
            "border": null,
            "align_items": null,
            "bottom": null,
            "_model_module": "@jupyter-widgets/base",
            "top": null,
            "grid_column": null,
            "overflow_y": null,
            "overflow_x": null,
            "grid_auto_flow": null,
            "grid_area": null,
            "grid_template_columns": null,
            "flex": null,
            "_model_name": "LayoutModel",
            "justify_items": null,
            "grid_row": null,
            "max_height": null,
            "align_content": null,
            "visibility": null,
            "align_self": null,
            "height": null,
            "min_height": null,
            "padding": null,
            "grid_auto_rows": null,
            "grid_gap": null,
            "max_width": null,
            "order": null,
            "_view_module_version": "1.2.0",
            "grid_template_areas": null,
            "object_position": null,
            "object_fit": null,
            "grid_auto_columns": null,
            "margin": null,
            "display": null,
            "left": null
          }
        },
        "e9f2e898adee46249081dd0429fecca2": {
          "model_module": "@jupyter-widgets/controls",
          "model_name": "DescriptionStyleModel",
          "state": {
            "_view_name": "StyleView",
            "_model_name": "DescriptionStyleModel",
            "description_width": "",
            "_view_module": "@jupyter-widgets/base",
            "_model_module_version": "1.5.0",
            "_view_count": null,
            "_view_module_version": "1.2.0",
            "_model_module": "@jupyter-widgets/controls"
          }
        },
        "0340afe8c7e64bb5ac10a700064924d3": {
          "model_module": "@jupyter-widgets/base",
          "model_name": "LayoutModel",
          "state": {
            "_view_name": "LayoutView",
            "grid_template_rows": null,
            "right": null,
            "justify_content": null,
            "_view_module": "@jupyter-widgets/base",
            "overflow": null,
            "_model_module_version": "1.2.0",
            "_view_count": null,
            "flex_flow": null,
            "width": null,
            "min_width": null,
            "border": null,
            "align_items": null,
            "bottom": null,
            "_model_module": "@jupyter-widgets/base",
            "top": null,
            "grid_column": null,
            "overflow_y": null,
            "overflow_x": null,
            "grid_auto_flow": null,
            "grid_area": null,
            "grid_template_columns": null,
            "flex": null,
            "_model_name": "LayoutModel",
            "justify_items": null,
            "grid_row": null,
            "max_height": null,
            "align_content": null,
            "visibility": null,
            "align_self": null,
            "height": null,
            "min_height": null,
            "padding": null,
            "grid_auto_rows": null,
            "grid_gap": null,
            "max_width": null,
            "order": null,
            "_view_module_version": "1.2.0",
            "grid_template_areas": null,
            "object_position": null,
            "object_fit": null,
            "grid_auto_columns": null,
            "margin": null,
            "display": null,
            "left": null
          }
        },
        "d0dfdd4bc78a41f1882d26031d6609c5": {
          "model_module": "@jupyter-widgets/controls",
          "model_name": "HBoxModel",
          "state": {
            "_view_name": "HBoxView",
            "_dom_classes": [],
            "_model_name": "HBoxModel",
            "_view_module": "@jupyter-widgets/controls",
            "_model_module_version": "1.5.0",
            "_view_count": null,
            "_view_module_version": "1.5.0",
            "box_style": "",
            "layout": "IPY_MODEL_4e7d4dc0a8d440c4a00b3a0d4b04a355",
            "_model_module": "@jupyter-widgets/controls",
            "children": [
              "IPY_MODEL_0ac3365b479e47cc8ea31ade74a7e5ae",
              "IPY_MODEL_4a9dcfdb50154e9e9daa2717ac3bc4d4"
            ]
          }
        },
        "4e7d4dc0a8d440c4a00b3a0d4b04a355": {
          "model_module": "@jupyter-widgets/base",
          "model_name": "LayoutModel",
          "state": {
            "_view_name": "LayoutView",
            "grid_template_rows": null,
            "right": null,
            "justify_content": null,
            "_view_module": "@jupyter-widgets/base",
            "overflow": null,
            "_model_module_version": "1.2.0",
            "_view_count": null,
            "flex_flow": null,
            "width": null,
            "min_width": null,
            "border": null,
            "align_items": null,
            "bottom": null,
            "_model_module": "@jupyter-widgets/base",
            "top": null,
            "grid_column": null,
            "overflow_y": null,
            "overflow_x": null,
            "grid_auto_flow": null,
            "grid_area": null,
            "grid_template_columns": null,
            "flex": null,
            "_model_name": "LayoutModel",
            "justify_items": null,
            "grid_row": null,
            "max_height": null,
            "align_content": null,
            "visibility": null,
            "align_self": null,
            "height": null,
            "min_height": null,
            "padding": null,
            "grid_auto_rows": null,
            "grid_gap": null,
            "max_width": null,
            "order": null,
            "_view_module_version": "1.2.0",
            "grid_template_areas": null,
            "object_position": null,
            "object_fit": null,
            "grid_auto_columns": null,
            "margin": null,
            "display": null,
            "left": null
          }
        },
        "0ac3365b479e47cc8ea31ade74a7e5ae": {
          "model_module": "@jupyter-widgets/controls",
          "model_name": "FloatProgressModel",
          "state": {
            "_view_name": "ProgressView",
            "style": "IPY_MODEL_7a603a0f1dd94dbdb97f77b8fc1050ed",
            "_dom_classes": [],
            "description": "100%",
            "_model_name": "FloatProgressModel",
            "bar_style": "success",
            "max": 178090079,
            "_view_module": "@jupyter-widgets/controls",
            "_model_module_version": "1.5.0",
            "value": 178090079,
            "_view_count": null,
            "_view_module_version": "1.5.0",
            "orientation": "horizontal",
            "min": 0,
            "description_tooltip": null,
            "_model_module": "@jupyter-widgets/controls",
            "layout": "IPY_MODEL_39ccaa1a6c664a138a9e0d08007a8de7"
          }
        },
        "4a9dcfdb50154e9e9daa2717ac3bc4d4": {
          "model_module": "@jupyter-widgets/controls",
          "model_name": "HTMLModel",
          "state": {
            "_view_name": "HTMLView",
            "style": "IPY_MODEL_81ff3872dbc349aaa71c5fbb14ddc061",
            "_dom_classes": [],
            "description": "",
            "_model_name": "HTMLModel",
            "placeholder": "​",
            "_view_module": "@jupyter-widgets/controls",
            "_model_module_version": "1.5.0",
            "value": " 170M/170M [00:06&lt;00:00, 28.7MB/s]",
            "_view_count": null,
            "_view_module_version": "1.5.0",
            "description_tooltip": null,
            "_model_module": "@jupyter-widgets/controls",
            "layout": "IPY_MODEL_a64c7be77dd24fa5928e88dbf43131d5"
          }
        },
        "7a603a0f1dd94dbdb97f77b8fc1050ed": {
          "model_module": "@jupyter-widgets/controls",
          "model_name": "ProgressStyleModel",
          "state": {
            "_view_name": "StyleView",
            "_model_name": "ProgressStyleModel",
            "description_width": "initial",
            "_view_module": "@jupyter-widgets/base",
            "_model_module_version": "1.5.0",
            "_view_count": null,
            "_view_module_version": "1.2.0",
            "bar_color": null,
            "_model_module": "@jupyter-widgets/controls"
          }
        },
        "39ccaa1a6c664a138a9e0d08007a8de7": {
          "model_module": "@jupyter-widgets/base",
          "model_name": "LayoutModel",
          "state": {
            "_view_name": "LayoutView",
            "grid_template_rows": null,
            "right": null,
            "justify_content": null,
            "_view_module": "@jupyter-widgets/base",
            "overflow": null,
            "_model_module_version": "1.2.0",
            "_view_count": null,
            "flex_flow": null,
            "width": null,
            "min_width": null,
            "border": null,
            "align_items": null,
            "bottom": null,
            "_model_module": "@jupyter-widgets/base",
            "top": null,
            "grid_column": null,
            "overflow_y": null,
            "overflow_x": null,
            "grid_auto_flow": null,
            "grid_area": null,
            "grid_template_columns": null,
            "flex": null,
            "_model_name": "LayoutModel",
            "justify_items": null,
            "grid_row": null,
            "max_height": null,
            "align_content": null,
            "visibility": null,
            "align_self": null,
            "height": null,
            "min_height": null,
            "padding": null,
            "grid_auto_rows": null,
            "grid_gap": null,
            "max_width": null,
            "order": null,
            "_view_module_version": "1.2.0",
            "grid_template_areas": null,
            "object_position": null,
            "object_fit": null,
            "grid_auto_columns": null,
            "margin": null,
            "display": null,
            "left": null
          }
        },
        "81ff3872dbc349aaa71c5fbb14ddc061": {
          "model_module": "@jupyter-widgets/controls",
          "model_name": "DescriptionStyleModel",
          "state": {
            "_view_name": "StyleView",
            "_model_name": "DescriptionStyleModel",
            "description_width": "",
            "_view_module": "@jupyter-widgets/base",
            "_model_module_version": "1.5.0",
            "_view_count": null,
            "_view_module_version": "1.2.0",
            "_model_module": "@jupyter-widgets/controls"
          }
        },
        "a64c7be77dd24fa5928e88dbf43131d5": {
          "model_module": "@jupyter-widgets/base",
          "model_name": "LayoutModel",
          "state": {
            "_view_name": "LayoutView",
            "grid_template_rows": null,
            "right": null,
            "justify_content": null,
            "_view_module": "@jupyter-widgets/base",
            "overflow": null,
            "_model_module_version": "1.2.0",
            "_view_count": null,
            "flex_flow": null,
            "width": null,
            "min_width": null,
            "border": null,
            "align_items": null,
            "bottom": null,
            "_model_module": "@jupyter-widgets/base",
            "top": null,
            "grid_column": null,
            "overflow_y": null,
            "overflow_x": null,
            "grid_auto_flow": null,
            "grid_area": null,
            "grid_template_columns": null,
            "flex": null,
            "_model_name": "LayoutModel",
            "justify_items": null,
            "grid_row": null,
            "max_height": null,
            "align_content": null,
            "visibility": null,
            "align_self": null,
            "height": null,
            "min_height": null,
            "padding": null,
            "grid_auto_rows": null,
            "grid_gap": null,
            "max_width": null,
            "order": null,
            "_view_module_version": "1.2.0",
            "grid_template_areas": null,
            "object_position": null,
            "object_fit": null,
            "grid_auto_columns": null,
            "margin": null,
            "display": null,
            "left": null
          }
        }
      }
    }
  },
  "cells": [
    {
      "cell_type": "markdown",
      "metadata": {
        "id": "view-in-github",
        "colab_type": "text"
      },
      "source": [
        "<a href=\"https://colab.research.google.com/github/JaeHeee/Pytorch_Tutorial/blob/main/code/TORCHVISION_OBJECT_DETECTION_FINETUNING_TUTORIAL.ipynb\" target=\"_parent\"><img src=\"https://colab.research.google.com/assets/colab-badge.svg\" alt=\"Open In Colab\"/></a>"
      ]
    },
    {
      "cell_type": "markdown",
      "metadata": {
        "id": "SEJYrMb-EltC"
      },
      "source": [
        "## TORCHVISION OBJECT DETECTION FINETUNING TUTORIAL"
      ]
    },
    {
      "cell_type": "code",
      "metadata": {
        "colab": {
          "base_uri": "https://localhost:8080/"
        },
        "id": "bqxK6rFqLO59",
        "outputId": "2b31c83c-a0a0-47d2-df44-e7cf186f4555"
      },
      "source": [
        "cd drive/MyDrive/Pytorch/"
      ],
      "execution_count": 1,
      "outputs": [
        {
          "output_type": "stream",
          "text": [
            "/content/drive/MyDrive/Pytorch\n"
          ],
          "name": "stdout"
        }
      ]
    },
    {
      "cell_type": "markdown",
      "metadata": {
        "id": "s-oIL7TcEs44"
      },
      "source": [
        "### Defining the Dataset"
      ]
    },
    {
      "cell_type": "markdown",
      "metadata": {
        "id": "_Dtu2NHNEs7S"
      },
      "source": [
        "객체 검출, 인스턴스 분할 및 사용자 키포인트(Keypoint) 검출을 학습하기 위한 참조 스크립트를 통해 새로운 커스텀 데이터셋 추가를 쉽게 진행해 볼 수 있다. 데이터셋은 표준 `torch.utils.data.Dataset` 클래스를 상속 받아야 하며, `__len__` 와 `__getitem__` 메소드를 구현해 주어야 한다."
      ]
    },
    {
      "cell_type": "markdown",
      "metadata": {
        "id": "4x2ow3OWEs-C"
      },
      "source": [
        "우리가 데이터셋 클래스에서 필요로 하는 유일한 특성은 `__getitem__` 를 리턴을 해야 하는 점"
      ]
    },
    {
      "cell_type": "markdown",
      "metadata": {
        "id": "y1okNYBnEtA6"
      },
      "source": [
        "- image: a PIL Image of size (H, W)\n",
        "- target: a dict containing the following fields\n",
        "    - `boxes (FloatTensor[N, 4])`: the coordinates of the `N` bounding boxes in `[x0, y0, x1, y1]` format, ranging from `0 to W and 0 to H`\n",
        "    - `labels (Int64Tensor[N])`: the label for each bounding box. 0 represents always the background class.\n",
        "    - `image_id (Int64Tensor[1])`: an image identifier. It should be unique between all the images in the dataset, and is used during evaluation\n",
        "    - `area (Tensor[N])`: The area of the bounding box. This is used during evaluation with the COCO metric, to separate the metric scores between small, medium and large boxes.\n",
        "    - `iscrowd (UInt8Tensor[N])`: instances with iscrowd=True will be ignored during evaluation.\n",
        "    - (optionally) `masks (UInt8Tensor[N, H, W]):` The segmentation masks for each one of the objects\n",
        "    - (optionally) `keypoints (FloatTensor[N, K, 3])`: For each one of the N objects, it contains the K keypoints in `[x, y, visibility]` format, defining the object. visibility=0 means that the keypoint is not visible. Note that for data augmentation, the notion of flipping a keypoint is dependent on the data representation, and you should probably adapt `references/detection/transforms.py` for your new keypoint representation"
      ]
    },
    {
      "cell_type": "markdown",
      "metadata": {
        "id": "nq3PkJNmF_Cj"
      },
      "source": [
        "labels 에 대한 참고사항. 이 모델은 클래스 0 을 배경으로 취급. 만약 준비한 데이터셋에 배경의 클래스가 없다면, labels 에도 0 이 없어야 한다. \n",
        "\n",
        "학습 중에 가로 세로 비율 그룹화를 사용하려는 경우(각 배치에 유사한 가로 세로 비율이 있는 영상만 포함되도록), 이미지의 넓이, 높이를 리턴할 수 있도록 `get_height_and_width` 메소드를 구현하기를 추천. 이 메소드가 구현되지 않은 경우에는 모든 데이터셋은 `__getitem__` 를 통해 메모리에 이미지가 로드되며 사용자 정의 메소드를 제공하는 것보다 느릴 수 있다.\n",
        "\n"
      ]
    },
    {
      "cell_type": "markdown",
      "metadata": {
        "id": "rbcsIZZfGSvz"
      },
      "source": [
        "### Writing a custom dataset for PennFudan"
      ]
    },
    {
      "cell_type": "code",
      "metadata": {
        "id": "IbSu0KDrEjHs"
      },
      "source": [
        "import os\n",
        "import numpy as np\n",
        "import torch\n",
        "from PIL import Image\n",
        "\n",
        "\n",
        "class PennFudanDataset(object):\n",
        "    def __init__(self, root, transforms):\n",
        "        self.root = root\n",
        "        self.transforms = transforms\n",
        "        # load all image files, sorting them to\n",
        "        # ensure that they are aligned\n",
        "        self.imgs = list(sorted(os.listdir(os.path.join(root, \"PNGImages\"))))\n",
        "        self.masks = list(sorted(os.listdir(os.path.join(root, \"PedMasks\"))))\n",
        "\n",
        "    def __getitem__(self, idx):\n",
        "        # load images ad masks\n",
        "        img_path = os.path.join(self.root, \"PNGImages\", self.imgs[idx])\n",
        "        mask_path = os.path.join(self.root, \"PedMasks\", self.masks[idx])\n",
        "        img = Image.open(img_path).convert(\"RGB\")\n",
        "        # note that we haven't converted the mask to RGB,\n",
        "        # because each color corresponds to a different instance\n",
        "        # with 0 being background\n",
        "        mask = Image.open(mask_path)\n",
        "        # convert the PIL Image into a numpy array\n",
        "        mask = np.array(mask)\n",
        "        # instances are encoded as different colors\n",
        "        obj_ids = np.unique(mask)\n",
        "        # first id is the background, so remove it\n",
        "        obj_ids = obj_ids[1:]\n",
        "\n",
        "        # split the color-encoded mask into a set\n",
        "        # of binary masks\n",
        "        masks = mask == obj_ids[:, None, None]\n",
        "\n",
        "        # get bounding box coordinates for each mask\n",
        "        num_objs = len(obj_ids)\n",
        "        boxes = []\n",
        "        for i in range(num_objs):\n",
        "            pos = np.where(masks[i])\n",
        "            xmin = np.min(pos[1])\n",
        "            xmax = np.max(pos[1])\n",
        "            ymin = np.min(pos[0])\n",
        "            ymax = np.max(pos[0])\n",
        "            boxes.append([xmin, ymin, xmax, ymax])\n",
        "\n",
        "        # convert everything into a torch.Tensor\n",
        "        boxes = torch.as_tensor(boxes, dtype=torch.float32)\n",
        "        # there is only one class\n",
        "        labels = torch.ones((num_objs,), dtype=torch.int64)\n",
        "        masks = torch.as_tensor(masks, dtype=torch.uint8)\n",
        "\n",
        "        image_id = torch.tensor([idx])\n",
        "        area = (boxes[:, 3] - boxes[:, 1]) * (boxes[:, 2] - boxes[:, 0])\n",
        "        # suppose all instances are not crowd\n",
        "        iscrowd = torch.zeros((num_objs,), dtype=torch.int64)\n",
        "\n",
        "        target = {}\n",
        "        target[\"boxes\"] = boxes\n",
        "        target[\"labels\"] = labels\n",
        "        target[\"masks\"] = masks\n",
        "        target[\"image_id\"] = image_id\n",
        "        target[\"area\"] = area\n",
        "        target[\"iscrowd\"] = iscrowd\n",
        "\n",
        "        if self.transforms is not None:\n",
        "            img, target = self.transforms(img, target)\n",
        "\n",
        "        return img, target\n",
        "\n",
        "    def __len__(self):\n",
        "        return len(self.imgs)"
      ],
      "execution_count": 2,
      "outputs": []
    },
    {
      "cell_type": "markdown",
      "metadata": {
        "id": "c09tZDU1HuPH"
      },
      "source": [
        "### Defining your model"
      ]
    },
    {
      "cell_type": "markdown",
      "metadata": {
        "id": "D_p0SxBuH9zV"
      },
      "source": [
        "Mask R-CNN은 각 인스턴스에 대한 분할 마스크 예측하는 추가 분기(레이어)를 Faster R-CNN에 추가한 모델이다.\n",
        "\n",
        "Torchvision model zoo에서 사용 가능한 모델들 중 하나를 이용해 모델을 수정하려면 보통 두가지 상황이 있다.\n",
        "- pre-trained mode에서 시작해서 마지막 레이어 수준만 fine tuning하는 것\n",
        "- 다른 하나는 모델의 backbone을 다른 backbone으로 교체하는 것"
      ]
    },
    {
      "cell_type": "markdown",
      "metadata": {
        "id": "uq0w2U5NJH2P"
      },
      "source": [
        "#### 1 - Finetuning from a pretrained model\n"
      ]
    },
    {
      "cell_type": "code",
      "metadata": {
        "colab": {
          "base_uri": "https://localhost:8080/",
          "height": 103,
          "referenced_widgets": [
            "a8ef6a12038b46ddbcbc4eb5432af264",
            "b11b8b9f219e41f29b7305e63c26d5a5",
            "0cf18ed5961e4b4f87f7e35c3add42fa",
            "b7d6bb61ac5741e6b30dbc3f7941398d",
            "f6687afade86490ebdadee0ef86c68b2",
            "6363147b0bef465faf525a208405da5d",
            "4307942de1e54ecc865bd655b07a643b",
            "7f7083eb36384424a04869365770d53d"
          ]
        },
        "id": "CNsJTzb5GzOF",
        "outputId": "b3881700-4e58-46d1-e163-01f02acfd16d"
      },
      "source": [
        "import torchvision\n",
        "from torchvision.models.detection.faster_rcnn import FastRCNNPredictor\n",
        "\n",
        "# load a model pre-trained pre-trained on COCO\n",
        "model = torchvision.models.detection.fasterrcnn_resnet50_fpn(pretrained=True)\n",
        "\n",
        "# replace the classifier with a new one, that has\n",
        "# num_classes which is user-defined\n",
        "num_classes = 2  # 1 class (person) + background\n",
        "# get number of input features for the classifier\n",
        "in_features = model.roi_heads.box_predictor.cls_score.in_features\n",
        "# replace the pre-trained head with a new one\n",
        "model.roi_heads.box_predictor = FastRCNNPredictor(in_features, num_classes)\n"
      ],
      "execution_count": 3,
      "outputs": [
        {
          "output_type": "stream",
          "text": [
            "Downloading: \"https://download.pytorch.org/models/fasterrcnn_resnet50_fpn_coco-258fb6c6.pth\" to /root/.cache/torch/hub/checkpoints/fasterrcnn_resnet50_fpn_coco-258fb6c6.pth\n"
          ],
          "name": "stderr"
        },
        {
          "output_type": "display_data",
          "data": {
            "application/vnd.jupyter.widget-view+json": {
              "model_id": "a8ef6a12038b46ddbcbc4eb5432af264",
              "version_minor": 0,
              "version_major": 2
            },
            "text/plain": [
              "HBox(children=(FloatProgress(value=0.0, max=167502836.0), HTML(value='')))"
            ]
          },
          "metadata": {
            "tags": []
          }
        },
        {
          "output_type": "stream",
          "text": [
            "\n"
          ],
          "name": "stdout"
        }
      ]
    },
    {
      "cell_type": "markdown",
      "metadata": {
        "id": "bjP9kafBJgcr"
      },
      "source": [
        "#### 2 - Modifying the model to add a different backbone"
      ]
    },
    {
      "cell_type": "code",
      "metadata": {
        "colab": {
          "base_uri": "https://localhost:8080/",
          "height": 103,
          "referenced_widgets": [
            "0cc1cbf8a95243c99a3feb8facd0ec50",
            "75bc1ba1927c4a6db4eea352aa871678",
            "e6cd47f6b1f14774a4b6712a6bc8c21a",
            "9fecfd9fe7d34fedab2c73b45f12416f",
            "e9f460805fd6486dbb5dc253aff4398f",
            "c2d7d97299694e4bb37af635e630a320",
            "e9f2e898adee46249081dd0429fecca2",
            "0340afe8c7e64bb5ac10a700064924d3"
          ]
        },
        "id": "PW4ko7M8Hu71",
        "outputId": "730eaa3b-f55b-4167-97e4-d45768b3ef91"
      },
      "source": [
        "import torchvision\n",
        "from torchvision.models.detection import FasterRCNN\n",
        "from torchvision.models.detection.rpn import AnchorGenerator\n",
        "\n",
        "# load a pre-trained model for classification and return\n",
        "# only the features\n",
        "backbone = torchvision.models.mobilenet_v2(pretrained=True).features\n",
        "# FasterRCNN needs to know the number of\n",
        "# output channels in a backbone. For mobilenet_v2, it's 1280\n",
        "# so we need to add it here\n",
        "backbone.out_channels = 1280\n",
        "\n",
        "# let's make the RPN generate 5 x 3 anchors per spatial\n",
        "# location, with 5 different sizes and 3 different aspect\n",
        "# ratios. We have a Tuple[Tuple[int]] because each feature\n",
        "# map could potentially have different sizes and\n",
        "# aspect ratios\n",
        "anchor_generator = AnchorGenerator(sizes=((32, 64, 128, 256, 512),),\n",
        "                                   aspect_ratios=((0.5, 1.0, 2.0),))\n",
        "\n",
        "# let's define what are the feature maps that we will\n",
        "# use to perform the region of interest cropping, as well as\n",
        "# the size of the crop after rescaling.\n",
        "# if your backbone returns a Tensor, featmap_names is expected to\n",
        "# be [0]. More generally, the backbone should return an\n",
        "# OrderedDict[Tensor], and in featmap_names you can choose which\n",
        "# feature maps to use.\n",
        "roi_pooler = torchvision.ops.MultiScaleRoIAlign(featmap_names=[0],\n",
        "                                                output_size=7,\n",
        "                                                sampling_ratio=2)\n",
        "\n",
        "# put the pieces together inside a FasterRCNN model\n",
        "model = FasterRCNN(backbone,\n",
        "                   num_classes=2,\n",
        "                   rpn_anchor_generator=anchor_generator,\n",
        "                   box_roi_pool=roi_pooler)"
      ],
      "execution_count": 4,
      "outputs": [
        {
          "output_type": "stream",
          "text": [
            "Downloading: \"https://download.pytorch.org/models/mobilenet_v2-b0353104.pth\" to /root/.cache/torch/hub/checkpoints/mobilenet_v2-b0353104.pth\n"
          ],
          "name": "stderr"
        },
        {
          "output_type": "display_data",
          "data": {
            "application/vnd.jupyter.widget-view+json": {
              "model_id": "0cc1cbf8a95243c99a3feb8facd0ec50",
              "version_minor": 0,
              "version_major": 2
            },
            "text/plain": [
              "HBox(children=(FloatProgress(value=0.0, max=14212972.0), HTML(value='')))"
            ]
          },
          "metadata": {
            "tags": []
          }
        },
        {
          "output_type": "stream",
          "text": [
            "\n"
          ],
          "name": "stdout"
        }
      ]
    },
    {
      "cell_type": "markdown",
      "metadata": {
        "id": "_3ayVoWzJ33X"
      },
      "source": [
        "#### An Instance segmentation model for PennFudan Dataset"
      ]
    },
    {
      "cell_type": "code",
      "metadata": {
        "id": "4S-ikqUQJ45X"
      },
      "source": [
        "import torchvision\n",
        "from torchvision.models.detection.faster_rcnn import FastRCNNPredictor\n",
        "from torchvision.models.detection.mask_rcnn import MaskRCNNPredictor\n",
        "\n",
        "\n",
        "def get_model_instance_segmentation(num_classes):\n",
        "    # load an instance segmentation model pre-trained pre-trained on COCO\n",
        "    model = torchvision.models.detection.maskrcnn_resnet50_fpn(pretrained=True)\n",
        "\n",
        "    # get number of input features for the classifier\n",
        "    in_features = model.roi_heads.box_predictor.cls_score.in_features\n",
        "    # replace the pre-trained head with a new one\n",
        "    model.roi_heads.box_predictor = FastRCNNPredictor(in_features, num_classes)\n",
        "\n",
        "    # now get the number of input features for the mask classifier\n",
        "    in_features_mask = model.roi_heads.mask_predictor.conv5_mask.in_channels\n",
        "    hidden_layer = 256\n",
        "    # and replace the mask predictor with a new one\n",
        "    model.roi_heads.mask_predictor = MaskRCNNPredictor(in_features_mask,\n",
        "                                                       hidden_layer,\n",
        "                                                       num_classes)\n",
        "\n",
        "    return model"
      ],
      "execution_count": 5,
      "outputs": []
    },
    {
      "cell_type": "markdown",
      "metadata": {
        "id": "5m52PRKbKlNQ"
      },
      "source": [
        "#### Putting everything together"
      ]
    },
    {
      "cell_type": "code",
      "metadata": {
        "colab": {
          "base_uri": "https://localhost:8080/"
        },
        "id": "P2HFpl1UCA9o",
        "outputId": "5c8a530b-ba97-4fb3-d06d-6343d8280f97"
      },
      "source": [
        "!git clone https://github.com/pytorch/vision.git"
      ],
      "execution_count": 6,
      "outputs": [
        {
          "output_type": "stream",
          "text": [
            "fatal: destination path 'vision' already exists and is not an empty directory.\n"
          ],
          "name": "stdout"
        }
      ]
    },
    {
      "cell_type": "code",
      "metadata": {
        "colab": {
          "base_uri": "https://localhost:8080/"
        },
        "id": "POMpx9DyCWHr",
        "outputId": "5b7f8930-d9df-4142-e4c3-12f174cb199f"
      },
      "source": [
        "cd vision"
      ],
      "execution_count": 7,
      "outputs": [
        {
          "output_type": "stream",
          "text": [
            "/content/drive/MyDrive/Pytorch/vision\n"
          ],
          "name": "stdout"
        }
      ]
    },
    {
      "cell_type": "code",
      "metadata": {
        "id": "EqiBPqhlCrKU"
      },
      "source": [
        "cp references/detection/utils.py ../"
      ],
      "execution_count": 8,
      "outputs": []
    },
    {
      "cell_type": "code",
      "metadata": {
        "id": "SWNt_n-MC4pN"
      },
      "source": [
        "cp references/detection/engine.py ../"
      ],
      "execution_count": 9,
      "outputs": []
    },
    {
      "cell_type": "code",
      "metadata": {
        "id": "3UNOsOjBDOQn"
      },
      "source": [
        "cp references/detection/coco_utils.py ../"
      ],
      "execution_count": 10,
      "outputs": []
    },
    {
      "cell_type": "code",
      "metadata": {
        "id": "3yVW9DgMDUTR"
      },
      "source": [
        "cp references/detection/transforms.py ../"
      ],
      "execution_count": 11,
      "outputs": []
    },
    {
      "cell_type": "code",
      "metadata": {
        "id": "FE7JZnQIDUVt"
      },
      "source": [
        "cp references/detection/coco_eval.py ../"
      ],
      "execution_count": 12,
      "outputs": []
    },
    {
      "cell_type": "code",
      "metadata": {
        "colab": {
          "base_uri": "https://localhost:8080/"
        },
        "id": "oxO2oucFDKAd",
        "outputId": "3e06d83a-fee1-4c21-f6dd-955864e5a344"
      },
      "source": [
        "cd .."
      ],
      "execution_count": 13,
      "outputs": [
        {
          "output_type": "stream",
          "text": [
            "/content/drive/My Drive/Pytorch\n"
          ],
          "name": "stdout"
        }
      ]
    },
    {
      "cell_type": "code",
      "metadata": {
        "id": "Oh8h3DwqKl1_"
      },
      "source": [
        "import transforms as T\n",
        "\n",
        "def get_transform(train):\n",
        "    transforms = []\n",
        "    transforms.append(T.ToTensor())\n",
        "    if train:\n",
        "        transforms.append(T.RandomHorizontalFlip(0.5))\n",
        "    return T.Compose(transforms)"
      ],
      "execution_count": 14,
      "outputs": []
    },
    {
      "cell_type": "markdown",
      "metadata": {
        "id": "AmkYmdNXKv4S"
      },
      "source": [
        "#### Testing forward() method (Optional)"
      ]
    },
    {
      "cell_type": "code",
      "metadata": {
        "id": "sN10hMnvMt6l"
      },
      "source": [
        "from engine import train_one_epoch, evaluate\n",
        "import utils\n",
        "\n",
        "\n",
        "# train on the GPU or on the CPU, if a GPU is not available\n",
        "device = torch.device('cuda') if torch.cuda.is_available() else torch.device('cpu')\n",
        "\n",
        "# our dataset has two classes only - background and person\n",
        "num_classes = 2\n",
        "# use our dataset and defined transformations\n",
        "dataset = PennFudanDataset('PennFudanPed', get_transform(train=True))\n",
        "dataset_test = PennFudanDataset('PennFudanPed', get_transform(train=False))\n",
        "\n",
        "# split the dataset in train and test set\n",
        "indices = torch.randperm(len(dataset)).tolist()\n",
        "dataset = torch.utils.data.Subset(dataset, indices[:-50])\n",
        "dataset_test = torch.utils.data.Subset(dataset_test, indices[-50:])\n",
        "\n",
        "# define training and validation data loaders\n",
        "data_loader = torch.utils.data.DataLoader(\n",
        "    dataset, batch_size=2, shuffle=True, num_workers=4,\n",
        "    collate_fn=utils.collate_fn)\n",
        "\n",
        "data_loader_test = torch.utils.data.DataLoader(\n",
        "    dataset_test, batch_size=1, shuffle=False, num_workers=4,\n",
        "    collate_fn=utils.collate_fn)"
      ],
      "execution_count": 15,
      "outputs": []
    },
    {
      "cell_type": "code",
      "metadata": {
        "colab": {
          "base_uri": "https://localhost:8080/",
          "height": 103,
          "referenced_widgets": [
            "d0dfdd4bc78a41f1882d26031d6609c5",
            "4e7d4dc0a8d440c4a00b3a0d4b04a355",
            "0ac3365b479e47cc8ea31ade74a7e5ae",
            "4a9dcfdb50154e9e9daa2717ac3bc4d4",
            "7a603a0f1dd94dbdb97f77b8fc1050ed",
            "39ccaa1a6c664a138a9e0d08007a8de7",
            "81ff3872dbc349aaa71c5fbb14ddc061",
            "a64c7be77dd24fa5928e88dbf43131d5"
          ]
        },
        "id": "DKslEbDCD9Hy",
        "outputId": "900ddd23-d001-4653-9b94-1baa9af9c6b7"
      },
      "source": [
        "# get the model using our helper function\n",
        "model = get_model_instance_segmentation(num_classes)\n",
        "\n",
        "# move model to the right device\n",
        "model.to(device)\n",
        "\n",
        "# construct an optimizer\n",
        "params = [p for p in model.parameters() if p.requires_grad]\n",
        "optimizer = torch.optim.SGD(params, lr=0.005,\n",
        "                            momentum=0.9, weight_decay=0.0005)\n",
        "# and a learning rate scheduler\n",
        "lr_scheduler = torch.optim.lr_scheduler.StepLR(optimizer,\n",
        "                                                step_size=3,\n",
        "                                                gamma=0.1)"
      ],
      "execution_count": 16,
      "outputs": [
        {
          "output_type": "stream",
          "text": [
            "Downloading: \"https://download.pytorch.org/models/maskrcnn_resnet50_fpn_coco-bf2d0c1e.pth\" to /root/.cache/torch/hub/checkpoints/maskrcnn_resnet50_fpn_coco-bf2d0c1e.pth\n"
          ],
          "name": "stderr"
        },
        {
          "output_type": "display_data",
          "data": {
            "application/vnd.jupyter.widget-view+json": {
              "model_id": "d0dfdd4bc78a41f1882d26031d6609c5",
              "version_minor": 0,
              "version_major": 2
            },
            "text/plain": [
              "HBox(children=(FloatProgress(value=0.0, max=178090079.0), HTML(value='')))"
            ]
          },
          "metadata": {
            "tags": []
          }
        },
        {
          "output_type": "stream",
          "text": [
            "\n"
          ],
          "name": "stdout"
        }
      ]
    },
    {
      "cell_type": "code",
      "metadata": {
        "colab": {
          "base_uri": "https://localhost:8080/"
        },
        "id": "fW3uSUYZDhIl",
        "outputId": "82eaa2d9-ae3a-45b7-9545-797bab469fa4"
      },
      "source": [
        "# let's train it for 10 epochs\n",
        "num_epochs = 10\n",
        "\n",
        "for epoch in range(num_epochs):\n",
        "    # train for one epoch, printing every 10 iterations\n",
        "    train_one_epoch(model, optimizer, data_loader, device, epoch, print_freq=10)\n",
        "    # update the learning rate\n",
        "    lr_scheduler.step()\n",
        "    # evaluate on the test dataset\n",
        "    evaluate(model, data_loader_test, device=device)"
      ],
      "execution_count": 17,
      "outputs": [
        {
          "output_type": "stream",
          "text": [
            "/usr/local/lib/python3.6/dist-packages/torch/nn/functional.py:3103: UserWarning: The default behavior for interpolate/upsample with float scale_factor changed in 1.6.0 to align with other frameworks/libraries, and now uses scale_factor directly, instead of relying on the computed output size. If you wish to restore the old behavior, please set recompute_scale_factor=True. See the documentation of nn.Upsample for details. \n",
            "  warnings.warn(\"The default behavior for interpolate/upsample with float scale_factor changed \"\n"
          ],
          "name": "stderr"
        },
        {
          "output_type": "stream",
          "text": [
            "Epoch: [0]  [ 0/60]  eta: 0:04:23  lr: 0.000090  loss: 5.6522 (5.6522)  loss_classifier: 1.1669 (1.1669)  loss_box_reg: 0.5314 (0.5314)  loss_mask: 3.9121 (3.9121)  loss_objectness: 0.0343 (0.0343)  loss_rpn_box_reg: 0.0076 (0.0076)  time: 4.3838  data: 3.6991  max mem: 1871\n",
            "Epoch: [0]  [10/60]  eta: 0:01:05  lr: 0.000936  loss: 2.2003 (2.9079)  loss_classifier: 0.7194 (0.6722)  loss_box_reg: 0.3483 (0.3192)  loss_mask: 1.3334 (1.8849)  loss_objectness: 0.0197 (0.0264)  loss_rpn_box_reg: 0.0053 (0.0052)  time: 1.3115  data: 0.9180  max mem: 2951\n",
            "Epoch: [0]  [20/60]  eta: 0:00:45  lr: 0.001783  loss: 1.1014 (1.8966)  loss_classifier: 0.2589 (0.4558)  loss_box_reg: 0.2921 (0.2947)  loss_mask: 0.4013 (1.1190)  loss_objectness: 0.0120 (0.0206)  loss_rpn_box_reg: 0.0048 (0.0065)  time: 0.9671  data: 0.6105  max mem: 2951\n",
            "Epoch: [0]  [30/60]  eta: 0:00:33  lr: 0.002629  loss: 0.7202 (1.4846)  loss_classifier: 0.1221 (0.3415)  loss_box_reg: 0.2923 (0.2852)  loss_mask: 0.2275 (0.8316)  loss_objectness: 0.0126 (0.0189)  loss_rpn_box_reg: 0.0057 (0.0074)  time: 1.0149  data: 0.6583  max mem: 2951\n",
            "Epoch: [0]  [40/60]  eta: 0:00:21  lr: 0.003476  loss: 0.4538 (1.2365)  loss_classifier: 0.0661 (0.2753)  loss_box_reg: 0.1885 (0.2661)  loss_mask: 0.1912 (0.6716)  loss_objectness: 0.0083 (0.0162)  loss_rpn_box_reg: 0.0047 (0.0072)  time: 1.0018  data: 0.6388  max mem: 3633\n",
            "Epoch: [0]  [50/60]  eta: 0:00:10  lr: 0.004323  loss: 0.3812 (1.0745)  loss_classifier: 0.0443 (0.2302)  loss_box_reg: 0.1566 (0.2514)  loss_mask: 0.1613 (0.5719)  loss_objectness: 0.0036 (0.0138)  loss_rpn_box_reg: 0.0063 (0.0072)  time: 0.9563  data: 0.5933  max mem: 3633\n",
            "Epoch: [0]  [59/60]  eta: 0:00:01  lr: 0.005000  loss: 0.3525 (0.9633)  loss_classifier: 0.0410 (0.2018)  loss_box_reg: 0.1379 (0.2337)  loss_mask: 0.1440 (0.5084)  loss_objectness: 0.0015 (0.0121)  loss_rpn_box_reg: 0.0064 (0.0073)  time: 0.9894  data: 0.6148  max mem: 3633\n",
            "Epoch: [0] Total time: 0:01:02 (1.0397 s / it)\n",
            "creating index...\n",
            "index created!\n",
            "Test:  [ 0/50]  eta: 0:00:15  model_time: 0.1184 (0.1184)  evaluator_time: 0.0059 (0.0059)  time: 0.3183  data: 0.1928  max mem: 3633\n",
            "Test:  [49/50]  eta: 0:00:00  model_time: 0.0752 (0.0825)  evaluator_time: 0.0040 (0.0087)  time: 0.0947  data: 0.0036  max mem: 3633\n",
            "Test: Total time: 0:00:05 (0.1016 s / it)\n",
            "Averaged stats: model_time: 0.0752 (0.0825)  evaluator_time: 0.0040 (0.0087)\n",
            "Accumulating evaluation results...\n",
            "DONE (t=0.01s).\n",
            "Accumulating evaluation results...\n",
            "DONE (t=0.01s).\n",
            "IoU metric: bbox\n",
            " Average Precision  (AP) @[ IoU=0.50:0.95 | area=   all | maxDets=100 ] = 0.615\n",
            " Average Precision  (AP) @[ IoU=0.50      | area=   all | maxDets=100 ] = 0.982\n",
            " Average Precision  (AP) @[ IoU=0.75      | area=   all | maxDets=100 ] = 0.770\n",
            " Average Precision  (AP) @[ IoU=0.50:0.95 | area= small | maxDets=100 ] = -1.000\n",
            " Average Precision  (AP) @[ IoU=0.50:0.95 | area=medium | maxDets=100 ] = 0.623\n",
            " Average Precision  (AP) @[ IoU=0.50:0.95 | area= large | maxDets=100 ] = 0.618\n",
            " Average Recall     (AR) @[ IoU=0.50:0.95 | area=   all | maxDets=  1 ] = 0.294\n",
            " Average Recall     (AR) @[ IoU=0.50:0.95 | area=   all | maxDets= 10 ] = 0.680\n",
            " Average Recall     (AR) @[ IoU=0.50:0.95 | area=   all | maxDets=100 ] = 0.680\n",
            " Average Recall     (AR) @[ IoU=0.50:0.95 | area= small | maxDets=100 ] = -1.000\n",
            " Average Recall     (AR) @[ IoU=0.50:0.95 | area=medium | maxDets=100 ] = 0.733\n",
            " Average Recall     (AR) @[ IoU=0.50:0.95 | area= large | maxDets=100 ] = 0.679\n",
            "IoU metric: segm\n",
            " Average Precision  (AP) @[ IoU=0.50:0.95 | area=   all | maxDets=100 ] = 0.708\n",
            " Average Precision  (AP) @[ IoU=0.50      | area=   all | maxDets=100 ] = 0.986\n",
            " Average Precision  (AP) @[ IoU=0.75      | area=   all | maxDets=100 ] = 0.898\n",
            " Average Precision  (AP) @[ IoU=0.50:0.95 | area= small | maxDets=100 ] = -1.000\n",
            " Average Precision  (AP) @[ IoU=0.50:0.95 | area=medium | maxDets=100 ] = 0.608\n",
            " Average Precision  (AP) @[ IoU=0.50:0.95 | area= large | maxDets=100 ] = 0.716\n",
            " Average Recall     (AR) @[ IoU=0.50:0.95 | area=   all | maxDets=  1 ] = 0.334\n",
            " Average Recall     (AR) @[ IoU=0.50:0.95 | area=   all | maxDets= 10 ] = 0.745\n",
            " Average Recall     (AR) @[ IoU=0.50:0.95 | area=   all | maxDets=100 ] = 0.747\n",
            " Average Recall     (AR) @[ IoU=0.50:0.95 | area= small | maxDets=100 ] = -1.000\n",
            " Average Recall     (AR) @[ IoU=0.50:0.95 | area=medium | maxDets=100 ] = 0.733\n",
            " Average Recall     (AR) @[ IoU=0.50:0.95 | area= large | maxDets=100 ] = 0.747\n",
            "Epoch: [1]  [ 0/60]  eta: 0:00:48  lr: 0.005000  loss: 0.2996 (0.2996)  loss_classifier: 0.0339 (0.0339)  loss_box_reg: 0.0999 (0.0999)  loss_mask: 0.1633 (0.1633)  loss_objectness: 0.0001 (0.0001)  loss_rpn_box_reg: 0.0024 (0.0024)  time: 0.8034  data: 0.2675  max mem: 3633\n",
            "Epoch: [1]  [10/60]  eta: 0:00:21  lr: 0.005000  loss: 0.2996 (0.3242)  loss_classifier: 0.0397 (0.0443)  loss_box_reg: 0.1011 (0.1201)  loss_mask: 0.1396 (0.1521)  loss_objectness: 0.0007 (0.0012)  loss_rpn_box_reg: 0.0067 (0.0066)  time: 0.4276  data: 0.0321  max mem: 3633\n",
            "Epoch: [1]  [20/60]  eta: 0:00:16  lr: 0.005000  loss: 0.2898 (0.3196)  loss_classifier: 0.0381 (0.0407)  loss_box_reg: 0.1011 (0.1119)  loss_mask: 0.1408 (0.1600)  loss_objectness: 0.0006 (0.0012)  loss_rpn_box_reg: 0.0049 (0.0058)  time: 0.3852  data: 0.0079  max mem: 3633\n",
            "Epoch: [1]  [30/60]  eta: 0:00:11  lr: 0.005000  loss: 0.2697 (0.2971)  loss_classifier: 0.0306 (0.0386)  loss_box_reg: 0.0776 (0.0982)  loss_mask: 0.1442 (0.1531)  loss_objectness: 0.0006 (0.0018)  loss_rpn_box_reg: 0.0041 (0.0055)  time: 0.3742  data: 0.0072  max mem: 3633\n",
            "Epoch: [1]  [40/60]  eta: 0:00:07  lr: 0.005000  loss: 0.2596 (0.2891)  loss_classifier: 0.0329 (0.0392)  loss_box_reg: 0.0644 (0.0933)  loss_mask: 0.1323 (0.1491)  loss_objectness: 0.0013 (0.0019)  loss_rpn_box_reg: 0.0041 (0.0056)  time: 0.3715  data: 0.0071  max mem: 3633\n",
            "Epoch: [1]  [50/60]  eta: 0:00:03  lr: 0.005000  loss: 0.2633 (0.2870)  loss_classifier: 0.0408 (0.0407)  loss_box_reg: 0.0723 (0.0912)  loss_mask: 0.1293 (0.1474)  loss_objectness: 0.0016 (0.0019)  loss_rpn_box_reg: 0.0037 (0.0058)  time: 0.3662  data: 0.0070  max mem: 3633\n",
            "Epoch: [1]  [59/60]  eta: 0:00:00  lr: 0.005000  loss: 0.2590 (0.2863)  loss_classifier: 0.0391 (0.0406)  loss_box_reg: 0.0810 (0.0903)  loss_mask: 0.1256 (0.1481)  loss_objectness: 0.0007 (0.0018)  loss_rpn_box_reg: 0.0035 (0.0056)  time: 0.3603  data: 0.0073  max mem: 3633\n",
            "Epoch: [1] Total time: 0:00:22 (0.3807 s / it)\n",
            "creating index...\n",
            "index created!\n",
            "Test:  [ 0/50]  eta: 0:00:15  model_time: 0.1235 (0.1235)  evaluator_time: 0.0043 (0.0043)  time: 0.3058  data: 0.1768  max mem: 3633\n",
            "Test:  [49/50]  eta: 0:00:00  model_time: 0.0748 (0.0800)  evaluator_time: 0.0035 (0.0067)  time: 0.0901  data: 0.0036  max mem: 3633\n",
            "Test: Total time: 0:00:04 (0.0966 s / it)\n",
            "Averaged stats: model_time: 0.0748 (0.0800)  evaluator_time: 0.0035 (0.0067)\n",
            "Accumulating evaluation results...\n",
            "DONE (t=0.01s).\n",
            "Accumulating evaluation results...\n",
            "DONE (t=0.01s).\n",
            "IoU metric: bbox\n",
            " Average Precision  (AP) @[ IoU=0.50:0.95 | area=   all | maxDets=100 ] = 0.748\n",
            " Average Precision  (AP) @[ IoU=0.50      | area=   all | maxDets=100 ] = 0.990\n",
            " Average Precision  (AP) @[ IoU=0.75      | area=   all | maxDets=100 ] = 0.918\n",
            " Average Precision  (AP) @[ IoU=0.50:0.95 | area= small | maxDets=100 ] = -1.000\n",
            " Average Precision  (AP) @[ IoU=0.50:0.95 | area=medium | maxDets=100 ] = 0.622\n",
            " Average Precision  (AP) @[ IoU=0.50:0.95 | area= large | maxDets=100 ] = 0.753\n",
            " Average Recall     (AR) @[ IoU=0.50:0.95 | area=   all | maxDets=  1 ] = 0.352\n",
            " Average Recall     (AR) @[ IoU=0.50:0.95 | area=   all | maxDets= 10 ] = 0.797\n",
            " Average Recall     (AR) @[ IoU=0.50:0.95 | area=   all | maxDets=100 ] = 0.797\n",
            " Average Recall     (AR) @[ IoU=0.50:0.95 | area= small | maxDets=100 ] = -1.000\n",
            " Average Recall     (AR) @[ IoU=0.50:0.95 | area=medium | maxDets=100 ] = 0.800\n",
            " Average Recall     (AR) @[ IoU=0.50:0.95 | area= large | maxDets=100 ] = 0.796\n",
            "IoU metric: segm\n",
            " Average Precision  (AP) @[ IoU=0.50:0.95 | area=   all | maxDets=100 ] = 0.748\n",
            " Average Precision  (AP) @[ IoU=0.50      | area=   all | maxDets=100 ] = 0.986\n",
            " Average Precision  (AP) @[ IoU=0.75      | area=   all | maxDets=100 ] = 0.918\n",
            " Average Precision  (AP) @[ IoU=0.50:0.95 | area= small | maxDets=100 ] = -1.000\n",
            " Average Precision  (AP) @[ IoU=0.50:0.95 | area=medium | maxDets=100 ] = 0.570\n",
            " Average Precision  (AP) @[ IoU=0.50:0.95 | area= large | maxDets=100 ] = 0.755\n",
            " Average Recall     (AR) @[ IoU=0.50:0.95 | area=   all | maxDets=  1 ] = 0.354\n",
            " Average Recall     (AR) @[ IoU=0.50:0.95 | area=   all | maxDets= 10 ] = 0.783\n",
            " Average Recall     (AR) @[ IoU=0.50:0.95 | area=   all | maxDets=100 ] = 0.783\n",
            " Average Recall     (AR) @[ IoU=0.50:0.95 | area= small | maxDets=100 ] = -1.000\n",
            " Average Recall     (AR) @[ IoU=0.50:0.95 | area=medium | maxDets=100 ] = 0.733\n",
            " Average Recall     (AR) @[ IoU=0.50:0.95 | area= large | maxDets=100 ] = 0.784\n",
            "Epoch: [2]  [ 0/60]  eta: 0:00:50  lr: 0.005000  loss: 0.1549 (0.1549)  loss_classifier: 0.0164 (0.0164)  loss_box_reg: 0.0388 (0.0388)  loss_mask: 0.0959 (0.0959)  loss_objectness: 0.0011 (0.0011)  loss_rpn_box_reg: 0.0026 (0.0026)  time: 0.8350  data: 0.3225  max mem: 3633\n",
            "Epoch: [2]  [10/60]  eta: 0:00:20  lr: 0.005000  loss: 0.2095 (0.2053)  loss_classifier: 0.0284 (0.0283)  loss_box_reg: 0.0577 (0.0605)  loss_mask: 0.1066 (0.1123)  loss_objectness: 0.0009 (0.0014)  loss_rpn_box_reg: 0.0025 (0.0027)  time: 0.4090  data: 0.0363  max mem: 3633\n",
            "Epoch: [2]  [20/60]  eta: 0:00:15  lr: 0.005000  loss: 0.2140 (0.2167)  loss_classifier: 0.0301 (0.0316)  loss_box_reg: 0.0577 (0.0602)  loss_mask: 0.1181 (0.1199)  loss_objectness: 0.0009 (0.0015)  loss_rpn_box_reg: 0.0034 (0.0035)  time: 0.3743  data: 0.0075  max mem: 3633\n",
            "Epoch: [2]  [30/60]  eta: 0:00:11  lr: 0.005000  loss: 0.2173 (0.2183)  loss_classifier: 0.0297 (0.0319)  loss_box_reg: 0.0540 (0.0589)  loss_mask: 0.1255 (0.1220)  loss_objectness: 0.0007 (0.0016)  loss_rpn_box_reg: 0.0042 (0.0039)  time: 0.3811  data: 0.0072  max mem: 3633\n",
            "Epoch: [2]  [40/60]  eta: 0:00:07  lr: 0.005000  loss: 0.2080 (0.2177)  loss_classifier: 0.0270 (0.0309)  loss_box_reg: 0.0495 (0.0582)  loss_mask: 0.1244 (0.1232)  loss_objectness: 0.0005 (0.0015)  loss_rpn_box_reg: 0.0033 (0.0038)  time: 0.3751  data: 0.0070  max mem: 3633\n",
            "Epoch: [2]  [50/60]  eta: 0:00:03  lr: 0.005000  loss: 0.2100 (0.2244)  loss_classifier: 0.0280 (0.0318)  loss_box_reg: 0.0608 (0.0631)  loss_mask: 0.1206 (0.1243)  loss_objectness: 0.0004 (0.0013)  loss_rpn_box_reg: 0.0023 (0.0038)  time: 0.3713  data: 0.0070  max mem: 3633\n",
            "Epoch: [2]  [59/60]  eta: 0:00:00  lr: 0.005000  loss: 0.2372 (0.2296)  loss_classifier: 0.0350 (0.0322)  loss_box_reg: 0.0803 (0.0672)  loss_mask: 0.1238 (0.1252)  loss_objectness: 0.0004 (0.0013)  loss_rpn_box_reg: 0.0029 (0.0038)  time: 0.3642  data: 0.0072  max mem: 3633\n",
            "Epoch: [2] Total time: 0:00:22 (0.3812 s / it)\n",
            "creating index...\n",
            "index created!\n",
            "Test:  [ 0/50]  eta: 0:00:27  model_time: 0.0785 (0.0785)  evaluator_time: 0.0035 (0.0035)  time: 0.5454  data: 0.4623  max mem: 3633\n",
            "Test:  [49/50]  eta: 0:00:00  model_time: 0.0748 (0.0774)  evaluator_time: 0.0034 (0.0055)  time: 0.0866  data: 0.0036  max mem: 3633\n",
            "Test: Total time: 0:00:04 (0.0982 s / it)\n",
            "Averaged stats: model_time: 0.0748 (0.0774)  evaluator_time: 0.0034 (0.0055)\n",
            "Accumulating evaluation results...\n",
            "DONE (t=0.01s).\n",
            "Accumulating evaluation results...\n",
            "DONE (t=0.01s).\n",
            "IoU metric: bbox\n",
            " Average Precision  (AP) @[ IoU=0.50:0.95 | area=   all | maxDets=100 ] = 0.704\n",
            " Average Precision  (AP) @[ IoU=0.50      | area=   all | maxDets=100 ] = 0.995\n",
            " Average Precision  (AP) @[ IoU=0.75      | area=   all | maxDets=100 ] = 0.905\n",
            " Average Precision  (AP) @[ IoU=0.50:0.95 | area= small | maxDets=100 ] = -1.000\n",
            " Average Precision  (AP) @[ IoU=0.50:0.95 | area=medium | maxDets=100 ] = 0.744\n",
            " Average Precision  (AP) @[ IoU=0.50:0.95 | area= large | maxDets=100 ] = 0.705\n",
            " Average Recall     (AR) @[ IoU=0.50:0.95 | area=   all | maxDets=  1 ] = 0.338\n",
            " Average Recall     (AR) @[ IoU=0.50:0.95 | area=   all | maxDets= 10 ] = 0.756\n",
            " Average Recall     (AR) @[ IoU=0.50:0.95 | area=   all | maxDets=100 ] = 0.756\n",
            " Average Recall     (AR) @[ IoU=0.50:0.95 | area= small | maxDets=100 ] = -1.000\n",
            " Average Recall     (AR) @[ IoU=0.50:0.95 | area=medium | maxDets=100 ] = 0.767\n",
            " Average Recall     (AR) @[ IoU=0.50:0.95 | area= large | maxDets=100 ] = 0.756\n",
            "IoU metric: segm\n",
            " Average Precision  (AP) @[ IoU=0.50:0.95 | area=   all | maxDets=100 ] = 0.755\n",
            " Average Precision  (AP) @[ IoU=0.50      | area=   all | maxDets=100 ] = 0.995\n",
            " Average Precision  (AP) @[ IoU=0.75      | area=   all | maxDets=100 ] = 0.925\n",
            " Average Precision  (AP) @[ IoU=0.50:0.95 | area= small | maxDets=100 ] = -1.000\n",
            " Average Precision  (AP) @[ IoU=0.50:0.95 | area=medium | maxDets=100 ] = 0.816\n",
            " Average Precision  (AP) @[ IoU=0.50:0.95 | area= large | maxDets=100 ] = 0.757\n",
            " Average Recall     (AR) @[ IoU=0.50:0.95 | area=   all | maxDets=  1 ] = 0.351\n",
            " Average Recall     (AR) @[ IoU=0.50:0.95 | area=   all | maxDets= 10 ] = 0.787\n",
            " Average Recall     (AR) @[ IoU=0.50:0.95 | area=   all | maxDets=100 ] = 0.790\n",
            " Average Recall     (AR) @[ IoU=0.50:0.95 | area= small | maxDets=100 ] = -1.000\n",
            " Average Recall     (AR) @[ IoU=0.50:0.95 | area=medium | maxDets=100 ] = 0.867\n",
            " Average Recall     (AR) @[ IoU=0.50:0.95 | area= large | maxDets=100 ] = 0.788\n",
            "Epoch: [3]  [ 0/60]  eta: 0:00:41  lr: 0.000500  loss: 0.1395 (0.1395)  loss_classifier: 0.0076 (0.0076)  loss_box_reg: 0.0245 (0.0245)  loss_mask: 0.1063 (0.1063)  loss_objectness: 0.0002 (0.0002)  loss_rpn_box_reg: 0.0010 (0.0010)  time: 0.6913  data: 0.3213  max mem: 3633\n",
            "Epoch: [3]  [10/60]  eta: 0:00:19  lr: 0.000500  loss: 0.1807 (0.1873)  loss_classifier: 0.0215 (0.0217)  loss_box_reg: 0.0465 (0.0512)  loss_mask: 0.1063 (0.1102)  loss_objectness: 0.0008 (0.0015)  loss_rpn_box_reg: 0.0017 (0.0028)  time: 0.3830  data: 0.0344  max mem: 3633\n",
            "Epoch: [3]  [20/60]  eta: 0:00:15  lr: 0.000500  loss: 0.1887 (0.1970)  loss_classifier: 0.0221 (0.0244)  loss_box_reg: 0.0465 (0.0508)  loss_mask: 0.1089 (0.1174)  loss_objectness: 0.0004 (0.0012)  loss_rpn_box_reg: 0.0028 (0.0032)  time: 0.3598  data: 0.0067  max mem: 3633\n",
            "Epoch: [3]  [30/60]  eta: 0:00:11  lr: 0.000500  loss: 0.1968 (0.2001)  loss_classifier: 0.0257 (0.0265)  loss_box_reg: 0.0453 (0.0513)  loss_mask: 0.1151 (0.1180)  loss_objectness: 0.0004 (0.0010)  loss_rpn_box_reg: 0.0028 (0.0033)  time: 0.3746  data: 0.0074  max mem: 3633\n",
            "Epoch: [3]  [40/60]  eta: 0:00:07  lr: 0.000500  loss: 0.2085 (0.2036)  loss_classifier: 0.0343 (0.0284)  loss_box_reg: 0.0472 (0.0525)  loss_mask: 0.1151 (0.1183)  loss_objectness: 0.0006 (0.0010)  loss_rpn_box_reg: 0.0025 (0.0034)  time: 0.3807  data: 0.0071  max mem: 3633\n",
            "Epoch: [3]  [50/60]  eta: 0:00:03  lr: 0.000500  loss: 0.2013 (0.2014)  loss_classifier: 0.0303 (0.0284)  loss_box_reg: 0.0425 (0.0513)  loss_mask: 0.1129 (0.1175)  loss_objectness: 0.0005 (0.0009)  loss_rpn_box_reg: 0.0025 (0.0032)  time: 0.3889  data: 0.0072  max mem: 3633\n",
            "Epoch: [3]  [59/60]  eta: 0:00:00  lr: 0.000500  loss: 0.1699 (0.2003)  loss_classifier: 0.0261 (0.0286)  loss_box_reg: 0.0366 (0.0506)  loss_mask: 0.1088 (0.1169)  loss_objectness: 0.0003 (0.0009)  loss_rpn_box_reg: 0.0019 (0.0032)  time: 0.3877  data: 0.0072  max mem: 3633\n",
            "Epoch: [3] Total time: 0:00:22 (0.3830 s / it)\n",
            "creating index...\n",
            "index created!\n",
            "Test:  [ 0/50]  eta: 0:00:15  model_time: 0.1318 (0.1318)  evaluator_time: 0.0042 (0.0042)  time: 0.3173  data: 0.1800  max mem: 3633\n",
            "Test:  [49/50]  eta: 0:00:00  model_time: 0.0746 (0.0781)  evaluator_time: 0.0037 (0.0053)  time: 0.0866  data: 0.0037  max mem: 3633\n",
            "Test: Total time: 0:00:04 (0.0931 s / it)\n",
            "Averaged stats: model_time: 0.0746 (0.0781)  evaluator_time: 0.0037 (0.0053)\n",
            "Accumulating evaluation results...\n",
            "DONE (t=0.01s).\n",
            "Accumulating evaluation results...\n",
            "DONE (t=0.01s).\n",
            "IoU metric: bbox\n",
            " Average Precision  (AP) @[ IoU=0.50:0.95 | area=   all | maxDets=100 ] = 0.821\n",
            " Average Precision  (AP) @[ IoU=0.50      | area=   all | maxDets=100 ] = 0.996\n",
            " Average Precision  (AP) @[ IoU=0.75      | area=   all | maxDets=100 ] = 0.923\n",
            " Average Precision  (AP) @[ IoU=0.50:0.95 | area= small | maxDets=100 ] = -1.000\n",
            " Average Precision  (AP) @[ IoU=0.50:0.95 | area=medium | maxDets=100 ] = 0.844\n",
            " Average Precision  (AP) @[ IoU=0.50:0.95 | area= large | maxDets=100 ] = 0.823\n",
            " Average Recall     (AR) @[ IoU=0.50:0.95 | area=   all | maxDets=  1 ] = 0.384\n",
            " Average Recall     (AR) @[ IoU=0.50:0.95 | area=   all | maxDets= 10 ] = 0.859\n",
            " Average Recall     (AR) @[ IoU=0.50:0.95 | area=   all | maxDets=100 ] = 0.859\n",
            " Average Recall     (AR) @[ IoU=0.50:0.95 | area= small | maxDets=100 ] = -1.000\n",
            " Average Recall     (AR) @[ IoU=0.50:0.95 | area=medium | maxDets=100 ] = 0.867\n",
            " Average Recall     (AR) @[ IoU=0.50:0.95 | area= large | maxDets=100 ] = 0.859\n",
            "IoU metric: segm\n",
            " Average Precision  (AP) @[ IoU=0.50:0.95 | area=   all | maxDets=100 ] = 0.764\n",
            " Average Precision  (AP) @[ IoU=0.50      | area=   all | maxDets=100 ] = 0.996\n",
            " Average Precision  (AP) @[ IoU=0.75      | area=   all | maxDets=100 ] = 0.931\n",
            " Average Precision  (AP) @[ IoU=0.50:0.95 | area= small | maxDets=100 ] = -1.000\n",
            " Average Precision  (AP) @[ IoU=0.50:0.95 | area=medium | maxDets=100 ] = 0.795\n",
            " Average Precision  (AP) @[ IoU=0.50:0.95 | area= large | maxDets=100 ] = 0.765\n",
            " Average Recall     (AR) @[ IoU=0.50:0.95 | area=   all | maxDets=  1 ] = 0.355\n",
            " Average Recall     (AR) @[ IoU=0.50:0.95 | area=   all | maxDets= 10 ] = 0.799\n",
            " Average Recall     (AR) @[ IoU=0.50:0.95 | area=   all | maxDets=100 ] = 0.799\n",
            " Average Recall     (AR) @[ IoU=0.50:0.95 | area= small | maxDets=100 ] = -1.000\n",
            " Average Recall     (AR) @[ IoU=0.50:0.95 | area=medium | maxDets=100 ] = 0.833\n",
            " Average Recall     (AR) @[ IoU=0.50:0.95 | area= large | maxDets=100 ] = 0.798\n",
            "Epoch: [4]  [ 0/60]  eta: 0:01:06  lr: 0.000500  loss: 0.2850 (0.2850)  loss_classifier: 0.0561 (0.0561)  loss_box_reg: 0.0975 (0.0975)  loss_mask: 0.1256 (0.1256)  loss_objectness: 0.0008 (0.0008)  loss_rpn_box_reg: 0.0050 (0.0050)  time: 1.1111  data: 0.6745  max mem: 3633\n",
            "Epoch: [4]  [10/60]  eta: 0:00:21  lr: 0.000500  loss: 0.1728 (0.1924)  loss_classifier: 0.0228 (0.0287)  loss_box_reg: 0.0323 (0.0460)  loss_mask: 0.1120 (0.1148)  loss_objectness: 0.0003 (0.0005)  loss_rpn_box_reg: 0.0018 (0.0023)  time: 0.4350  data: 0.0656  max mem: 3633\n",
            "Epoch: [4]  [20/60]  eta: 0:00:16  lr: 0.000500  loss: 0.1649 (0.1842)  loss_classifier: 0.0211 (0.0271)  loss_box_reg: 0.0295 (0.0402)  loss_mask: 0.1071 (0.1137)  loss_objectness: 0.0002 (0.0008)  loss_rpn_box_reg: 0.0014 (0.0022)  time: 0.3645  data: 0.0059  max mem: 3633\n",
            "Epoch: [4]  [30/60]  eta: 0:00:11  lr: 0.000500  loss: 0.1719 (0.1889)  loss_classifier: 0.0218 (0.0270)  loss_box_reg: 0.0318 (0.0416)  loss_mask: 0.1100 (0.1169)  loss_objectness: 0.0003 (0.0009)  loss_rpn_box_reg: 0.0028 (0.0025)  time: 0.3712  data: 0.0071  max mem: 3633\n",
            "Epoch: [4]  [40/60]  eta: 0:00:07  lr: 0.000500  loss: 0.1756 (0.1888)  loss_classifier: 0.0243 (0.0271)  loss_box_reg: 0.0390 (0.0413)  loss_mask: 0.1152 (0.1168)  loss_objectness: 0.0003 (0.0009)  loss_rpn_box_reg: 0.0029 (0.0027)  time: 0.3762  data: 0.0073  max mem: 3633\n",
            "Epoch: [4]  [50/60]  eta: 0:00:03  lr: 0.000500  loss: 0.1735 (0.1865)  loss_classifier: 0.0223 (0.0266)  loss_box_reg: 0.0348 (0.0402)  loss_mask: 0.1137 (0.1160)  loss_objectness: 0.0004 (0.0009)  loss_rpn_box_reg: 0.0021 (0.0029)  time: 0.3692  data: 0.0074  max mem: 3633\n",
            "Epoch: [4]  [59/60]  eta: 0:00:00  lr: 0.000500  loss: 0.1797 (0.1876)  loss_classifier: 0.0233 (0.0271)  loss_box_reg: 0.0342 (0.0400)  loss_mask: 0.1137 (0.1169)  loss_objectness: 0.0004 (0.0009)  loss_rpn_box_reg: 0.0019 (0.0028)  time: 0.3636  data: 0.0074  max mem: 3633\n",
            "Epoch: [4] Total time: 0:00:22 (0.3819 s / it)\n",
            "creating index...\n",
            "index created!\n",
            "Test:  [ 0/50]  eta: 0:00:15  model_time: 0.1289 (0.1289)  evaluator_time: 0.0052 (0.0052)  time: 0.3029  data: 0.1675  max mem: 3633\n",
            "Test:  [49/50]  eta: 0:00:00  model_time: 0.0761 (0.0777)  evaluator_time: 0.0037 (0.0054)  time: 0.0875  data: 0.0041  max mem: 3633\n",
            "Test: Total time: 0:00:04 (0.0931 s / it)\n",
            "Averaged stats: model_time: 0.0761 (0.0777)  evaluator_time: 0.0037 (0.0054)\n",
            "Accumulating evaluation results...\n",
            "DONE (t=0.01s).\n",
            "Accumulating evaluation results...\n",
            "DONE (t=0.01s).\n",
            "IoU metric: bbox\n",
            " Average Precision  (AP) @[ IoU=0.50:0.95 | area=   all | maxDets=100 ] = 0.826\n",
            " Average Precision  (AP) @[ IoU=0.50      | area=   all | maxDets=100 ] = 0.997\n",
            " Average Precision  (AP) @[ IoU=0.75      | area=   all | maxDets=100 ] = 0.953\n",
            " Average Precision  (AP) @[ IoU=0.50:0.95 | area= small | maxDets=100 ] = -1.000\n",
            " Average Precision  (AP) @[ IoU=0.50:0.95 | area=medium | maxDets=100 ] = 0.844\n",
            " Average Precision  (AP) @[ IoU=0.50:0.95 | area= large | maxDets=100 ] = 0.828\n",
            " Average Recall     (AR) @[ IoU=0.50:0.95 | area=   all | maxDets=  1 ] = 0.383\n",
            " Average Recall     (AR) @[ IoU=0.50:0.95 | area=   all | maxDets= 10 ] = 0.862\n",
            " Average Recall     (AR) @[ IoU=0.50:0.95 | area=   all | maxDets=100 ] = 0.862\n",
            " Average Recall     (AR) @[ IoU=0.50:0.95 | area= small | maxDets=100 ] = -1.000\n",
            " Average Recall     (AR) @[ IoU=0.50:0.95 | area=medium | maxDets=100 ] = 0.867\n",
            " Average Recall     (AR) @[ IoU=0.50:0.95 | area= large | maxDets=100 ] = 0.862\n",
            "IoU metric: segm\n",
            " Average Precision  (AP) @[ IoU=0.50:0.95 | area=   all | maxDets=100 ] = 0.765\n",
            " Average Precision  (AP) @[ IoU=0.50      | area=   all | maxDets=100 ] = 0.997\n",
            " Average Precision  (AP) @[ IoU=0.75      | area=   all | maxDets=100 ] = 0.950\n",
            " Average Precision  (AP) @[ IoU=0.50:0.95 | area= small | maxDets=100 ] = -1.000\n",
            " Average Precision  (AP) @[ IoU=0.50:0.95 | area=medium | maxDets=100 ] = 0.750\n",
            " Average Precision  (AP) @[ IoU=0.50:0.95 | area= large | maxDets=100 ] = 0.768\n",
            " Average Recall     (AR) @[ IoU=0.50:0.95 | area=   all | maxDets=  1 ] = 0.358\n",
            " Average Recall     (AR) @[ IoU=0.50:0.95 | area=   all | maxDets= 10 ] = 0.802\n",
            " Average Recall     (AR) @[ IoU=0.50:0.95 | area=   all | maxDets=100 ] = 0.802\n",
            " Average Recall     (AR) @[ IoU=0.50:0.95 | area= small | maxDets=100 ] = -1.000\n",
            " Average Recall     (AR) @[ IoU=0.50:0.95 | area=medium | maxDets=100 ] = 0.800\n",
            " Average Recall     (AR) @[ IoU=0.50:0.95 | area= large | maxDets=100 ] = 0.802\n",
            "Epoch: [5]  [ 0/60]  eta: 0:00:49  lr: 0.000500  loss: 0.1962 (0.1962)  loss_classifier: 0.0307 (0.0307)  loss_box_reg: 0.0354 (0.0354)  loss_mask: 0.1282 (0.1282)  loss_objectness: 0.0003 (0.0003)  loss_rpn_box_reg: 0.0017 (0.0017)  time: 0.8287  data: 0.4164  max mem: 3633\n",
            "Epoch: [5]  [10/60]  eta: 0:00:20  lr: 0.000500  loss: 0.1755 (0.1874)  loss_classifier: 0.0222 (0.0250)  loss_box_reg: 0.0354 (0.0396)  loss_mask: 0.1150 (0.1194)  loss_objectness: 0.0005 (0.0005)  loss_rpn_box_reg: 0.0023 (0.0029)  time: 0.4183  data: 0.0430  max mem: 3633\n",
            "Epoch: [5]  [20/60]  eta: 0:00:15  lr: 0.000500  loss: 0.1707 (0.1886)  loss_classifier: 0.0236 (0.0254)  loss_box_reg: 0.0352 (0.0399)  loss_mask: 0.1102 (0.1194)  loss_objectness: 0.0004 (0.0008)  loss_rpn_box_reg: 0.0023 (0.0030)  time: 0.3767  data: 0.0065  max mem: 3633\n",
            "Epoch: [5]  [30/60]  eta: 0:00:11  lr: 0.000500  loss: 0.1636 (0.1841)  loss_classifier: 0.0236 (0.0252)  loss_box_reg: 0.0293 (0.0383)  loss_mask: 0.1051 (0.1168)  loss_objectness: 0.0004 (0.0012)  loss_rpn_box_reg: 0.0016 (0.0027)  time: 0.3753  data: 0.0072  max mem: 3633\n",
            "Epoch: [5]  [40/60]  eta: 0:00:07  lr: 0.000500  loss: 0.1677 (0.1834)  loss_classifier: 0.0213 (0.0252)  loss_box_reg: 0.0322 (0.0383)  loss_mask: 0.1051 (0.1162)  loss_objectness: 0.0005 (0.0010)  loss_rpn_box_reg: 0.0018 (0.0027)  time: 0.3792  data: 0.0072  max mem: 3633\n",
            "Epoch: [5]  [50/60]  eta: 0:00:03  lr: 0.000500  loss: 0.1710 (0.1832)  loss_classifier: 0.0269 (0.0261)  loss_box_reg: 0.0362 (0.0384)  loss_mask: 0.1064 (0.1150)  loss_objectness: 0.0003 (0.0009)  loss_rpn_box_reg: 0.0026 (0.0027)  time: 0.3690  data: 0.0072  max mem: 3633\n",
            "Epoch: [5]  [59/60]  eta: 0:00:00  lr: 0.000500  loss: 0.1660 (0.1827)  loss_classifier: 0.0259 (0.0262)  loss_box_reg: 0.0331 (0.0382)  loss_mask: 0.1051 (0.1147)  loss_objectness: 0.0003 (0.0009)  loss_rpn_box_reg: 0.0025 (0.0027)  time: 0.3674  data: 0.0072  max mem: 3633\n",
            "Epoch: [5] Total time: 0:00:23 (0.3842 s / it)\n",
            "creating index...\n",
            "index created!\n",
            "Test:  [ 0/50]  eta: 0:00:15  model_time: 0.1058 (0.1058)  evaluator_time: 0.0045 (0.0045)  time: 0.3097  data: 0.1980  max mem: 3633\n",
            "Test:  [49/50]  eta: 0:00:00  model_time: 0.0738 (0.0771)  evaluator_time: 0.0034 (0.0052)  time: 0.0860  data: 0.0036  max mem: 3633\n",
            "Test: Total time: 0:00:04 (0.0925 s / it)\n",
            "Averaged stats: model_time: 0.0738 (0.0771)  evaluator_time: 0.0034 (0.0052)\n",
            "Accumulating evaluation results...\n",
            "DONE (t=0.01s).\n",
            "Accumulating evaluation results...\n",
            "DONE (t=0.01s).\n",
            "IoU metric: bbox\n",
            " Average Precision  (AP) @[ IoU=0.50:0.95 | area=   all | maxDets=100 ] = 0.826\n",
            " Average Precision  (AP) @[ IoU=0.50      | area=   all | maxDets=100 ] = 0.997\n",
            " Average Precision  (AP) @[ IoU=0.75      | area=   all | maxDets=100 ] = 0.960\n",
            " Average Precision  (AP) @[ IoU=0.50:0.95 | area= small | maxDets=100 ] = -1.000\n",
            " Average Precision  (AP) @[ IoU=0.50:0.95 | area=medium | maxDets=100 ] = 0.900\n",
            " Average Precision  (AP) @[ IoU=0.50:0.95 | area= large | maxDets=100 ] = 0.827\n",
            " Average Recall     (AR) @[ IoU=0.50:0.95 | area=   all | maxDets=  1 ] = 0.388\n",
            " Average Recall     (AR) @[ IoU=0.50:0.95 | area=   all | maxDets= 10 ] = 0.860\n",
            " Average Recall     (AR) @[ IoU=0.50:0.95 | area=   all | maxDets=100 ] = 0.860\n",
            " Average Recall     (AR) @[ IoU=0.50:0.95 | area= small | maxDets=100 ] = -1.000\n",
            " Average Recall     (AR) @[ IoU=0.50:0.95 | area=medium | maxDets=100 ] = 0.900\n",
            " Average Recall     (AR) @[ IoU=0.50:0.95 | area= large | maxDets=100 ] = 0.859\n",
            "IoU metric: segm\n",
            " Average Precision  (AP) @[ IoU=0.50:0.95 | area=   all | maxDets=100 ] = 0.764\n",
            " Average Precision  (AP) @[ IoU=0.50      | area=   all | maxDets=100 ] = 0.997\n",
            " Average Precision  (AP) @[ IoU=0.75      | area=   all | maxDets=100 ] = 0.940\n",
            " Average Precision  (AP) @[ IoU=0.50:0.95 | area= small | maxDets=100 ] = -1.000\n",
            " Average Precision  (AP) @[ IoU=0.50:0.95 | area=medium | maxDets=100 ] = 0.761\n",
            " Average Precision  (AP) @[ IoU=0.50:0.95 | area= large | maxDets=100 ] = 0.766\n",
            " Average Recall     (AR) @[ IoU=0.50:0.95 | area=   all | maxDets=  1 ] = 0.354\n",
            " Average Recall     (AR) @[ IoU=0.50:0.95 | area=   all | maxDets= 10 ] = 0.799\n",
            " Average Recall     (AR) @[ IoU=0.50:0.95 | area=   all | maxDets=100 ] = 0.799\n",
            " Average Recall     (AR) @[ IoU=0.50:0.95 | area= small | maxDets=100 ] = -1.000\n",
            " Average Recall     (AR) @[ IoU=0.50:0.95 | area=medium | maxDets=100 ] = 0.800\n",
            " Average Recall     (AR) @[ IoU=0.50:0.95 | area= large | maxDets=100 ] = 0.799\n",
            "Epoch: [6]  [ 0/60]  eta: 0:00:51  lr: 0.000050  loss: 0.1602 (0.1602)  loss_classifier: 0.0237 (0.0237)  loss_box_reg: 0.0295 (0.0295)  loss_mask: 0.1041 (0.1041)  loss_objectness: 0.0004 (0.0004)  loss_rpn_box_reg: 0.0026 (0.0026)  time: 0.8505  data: 0.3994  max mem: 3633\n",
            "Epoch: [6]  [10/60]  eta: 0:00:20  lr: 0.000050  loss: 0.1668 (0.1875)  loss_classifier: 0.0237 (0.0259)  loss_box_reg: 0.0335 (0.0374)  loss_mask: 0.1145 (0.1209)  loss_objectness: 0.0005 (0.0009)  loss_rpn_box_reg: 0.0023 (0.0023)  time: 0.4182  data: 0.0418  max mem: 3633\n",
            "Epoch: [6]  [20/60]  eta: 0:00:16  lr: 0.000050  loss: 0.1668 (0.1753)  loss_classifier: 0.0237 (0.0243)  loss_box_reg: 0.0335 (0.0354)  loss_mask: 0.1054 (0.1129)  loss_objectness: 0.0003 (0.0006)  loss_rpn_box_reg: 0.0020 (0.0021)  time: 0.3799  data: 0.0066  max mem: 3633\n",
            "Epoch: [6]  [30/60]  eta: 0:00:11  lr: 0.000050  loss: 0.1685 (0.1804)  loss_classifier: 0.0237 (0.0260)  loss_box_reg: 0.0359 (0.0373)  loss_mask: 0.1064 (0.1137)  loss_objectness: 0.0003 (0.0007)  loss_rpn_box_reg: 0.0026 (0.0027)  time: 0.3806  data: 0.0073  max mem: 3633\n",
            "Epoch: [6]  [40/60]  eta: 0:00:07  lr: 0.000050  loss: 0.1724 (0.1792)  loss_classifier: 0.0257 (0.0260)  loss_box_reg: 0.0299 (0.0370)  loss_mask: 0.1096 (0.1127)  loss_objectness: 0.0003 (0.0009)  loss_rpn_box_reg: 0.0026 (0.0026)  time: 0.3754  data: 0.0073  max mem: 3633\n",
            "Epoch: [6]  [50/60]  eta: 0:00:03  lr: 0.000050  loss: 0.1724 (0.1812)  loss_classifier: 0.0257 (0.0268)  loss_box_reg: 0.0299 (0.0375)  loss_mask: 0.1022 (0.1131)  loss_objectness: 0.0003 (0.0011)  loss_rpn_box_reg: 0.0023 (0.0027)  time: 0.3709  data: 0.0072  max mem: 3633\n",
            "Epoch: [6]  [59/60]  eta: 0:00:00  lr: 0.000050  loss: 0.1801 (0.1809)  loss_classifier: 0.0247 (0.0266)  loss_box_reg: 0.0325 (0.0370)  loss_mask: 0.1059 (0.1138)  loss_objectness: 0.0003 (0.0010)  loss_rpn_box_reg: 0.0022 (0.0026)  time: 0.3637  data: 0.0073  max mem: 3633\n",
            "Epoch: [6] Total time: 0:00:22 (0.3832 s / it)\n",
            "creating index...\n",
            "index created!\n",
            "Test:  [ 0/50]  eta: 0:00:15  model_time: 0.0849 (0.0849)  evaluator_time: 0.0046 (0.0046)  time: 0.3037  data: 0.2130  max mem: 3633\n",
            "Test:  [49/50]  eta: 0:00:00  model_time: 0.0732 (0.0766)  evaluator_time: 0.0035 (0.0053)  time: 0.0867  data: 0.0037  max mem: 3633\n",
            "Test: Total time: 0:00:04 (0.0932 s / it)\n",
            "Averaged stats: model_time: 0.0732 (0.0766)  evaluator_time: 0.0035 (0.0053)\n",
            "Accumulating evaluation results...\n",
            "DONE (t=0.01s).\n",
            "Accumulating evaluation results...\n",
            "DONE (t=0.01s).\n",
            "IoU metric: bbox\n",
            " Average Precision  (AP) @[ IoU=0.50:0.95 | area=   all | maxDets=100 ] = 0.832\n",
            " Average Precision  (AP) @[ IoU=0.50      | area=   all | maxDets=100 ] = 0.997\n",
            " Average Precision  (AP) @[ IoU=0.75      | area=   all | maxDets=100 ] = 0.960\n",
            " Average Precision  (AP) @[ IoU=0.50:0.95 | area= small | maxDets=100 ] = -1.000\n",
            " Average Precision  (AP) @[ IoU=0.50:0.95 | area=medium | maxDets=100 ] = 0.844\n",
            " Average Precision  (AP) @[ IoU=0.50:0.95 | area= large | maxDets=100 ] = 0.833\n",
            " Average Recall     (AR) @[ IoU=0.50:0.95 | area=   all | maxDets=  1 ] = 0.389\n",
            " Average Recall     (AR) @[ IoU=0.50:0.95 | area=   all | maxDets= 10 ] = 0.868\n",
            " Average Recall     (AR) @[ IoU=0.50:0.95 | area=   all | maxDets=100 ] = 0.868\n",
            " Average Recall     (AR) @[ IoU=0.50:0.95 | area= small | maxDets=100 ] = -1.000\n",
            " Average Recall     (AR) @[ IoU=0.50:0.95 | area=medium | maxDets=100 ] = 0.867\n",
            " Average Recall     (AR) @[ IoU=0.50:0.95 | area= large | maxDets=100 ] = 0.868\n",
            "IoU metric: segm\n",
            " Average Precision  (AP) @[ IoU=0.50:0.95 | area=   all | maxDets=100 ] = 0.769\n",
            " Average Precision  (AP) @[ IoU=0.50      | area=   all | maxDets=100 ] = 0.997\n",
            " Average Precision  (AP) @[ IoU=0.75      | area=   all | maxDets=100 ] = 0.940\n",
            " Average Precision  (AP) @[ IoU=0.50:0.95 | area= small | maxDets=100 ] = -1.000\n",
            " Average Precision  (AP) @[ IoU=0.50:0.95 | area=medium | maxDets=100 ] = 0.778\n",
            " Average Precision  (AP) @[ IoU=0.50:0.95 | area= large | maxDets=100 ] = 0.771\n",
            " Average Recall     (AR) @[ IoU=0.50:0.95 | area=   all | maxDets=  1 ] = 0.361\n",
            " Average Recall     (AR) @[ IoU=0.50:0.95 | area=   all | maxDets= 10 ] = 0.804\n",
            " Average Recall     (AR) @[ IoU=0.50:0.95 | area=   all | maxDets=100 ] = 0.804\n",
            " Average Recall     (AR) @[ IoU=0.50:0.95 | area= small | maxDets=100 ] = -1.000\n",
            " Average Recall     (AR) @[ IoU=0.50:0.95 | area=medium | maxDets=100 ] = 0.833\n",
            " Average Recall     (AR) @[ IoU=0.50:0.95 | area= large | maxDets=100 ] = 0.804\n",
            "Epoch: [7]  [ 0/60]  eta: 0:00:49  lr: 0.000050  loss: 0.1422 (0.1422)  loss_classifier: 0.0178 (0.0178)  loss_box_reg: 0.0263 (0.0263)  loss_mask: 0.0975 (0.0975)  loss_objectness: 0.0001 (0.0001)  loss_rpn_box_reg: 0.0006 (0.0006)  time: 0.8240  data: 0.3441  max mem: 3633\n",
            "Epoch: [7]  [10/60]  eta: 0:00:20  lr: 0.000050  loss: 0.1788 (0.1815)  loss_classifier: 0.0256 (0.0268)  loss_box_reg: 0.0366 (0.0349)  loss_mask: 0.1048 (0.1158)  loss_objectness: 0.0005 (0.0011)  loss_rpn_box_reg: 0.0032 (0.0029)  time: 0.4196  data: 0.0387  max mem: 3633\n",
            "Epoch: [7]  [20/60]  eta: 0:00:15  lr: 0.000050  loss: 0.1658 (0.1715)  loss_classifier: 0.0231 (0.0233)  loss_box_reg: 0.0317 (0.0314)  loss_mask: 0.1048 (0.1133)  loss_objectness: 0.0005 (0.0009)  loss_rpn_box_reg: 0.0024 (0.0026)  time: 0.3677  data: 0.0078  max mem: 3633\n",
            "Epoch: [7]  [30/60]  eta: 0:00:11  lr: 0.000050  loss: 0.1630 (0.1710)  loss_classifier: 0.0224 (0.0243)  loss_box_reg: 0.0317 (0.0316)  loss_mask: 0.1045 (0.1118)  loss_objectness: 0.0004 (0.0009)  loss_rpn_box_reg: 0.0021 (0.0026)  time: 0.3686  data: 0.0074  max mem: 3633\n",
            "Epoch: [7]  [40/60]  eta: 0:00:07  lr: 0.000050  loss: 0.1663 (0.1738)  loss_classifier: 0.0224 (0.0240)  loss_box_reg: 0.0319 (0.0328)  loss_mask: 0.1045 (0.1135)  loss_objectness: 0.0003 (0.0009)  loss_rpn_box_reg: 0.0019 (0.0026)  time: 0.3842  data: 0.0073  max mem: 3877\n",
            "Epoch: [7]  [50/60]  eta: 0:00:03  lr: 0.000050  loss: 0.1531 (0.1726)  loss_classifier: 0.0209 (0.0236)  loss_box_reg: 0.0268 (0.0325)  loss_mask: 0.1050 (0.1132)  loss_objectness: 0.0003 (0.0008)  loss_rpn_box_reg: 0.0019 (0.0025)  time: 0.3810  data: 0.0073  max mem: 3877\n",
            "Epoch: [7]  [59/60]  eta: 0:00:00  lr: 0.000050  loss: 0.1719 (0.1779)  loss_classifier: 0.0256 (0.0250)  loss_box_reg: 0.0370 (0.0353)  loss_mask: 0.1096 (0.1141)  loss_objectness: 0.0004 (0.0009)  loss_rpn_box_reg: 0.0021 (0.0026)  time: 0.3803  data: 0.0072  max mem: 3877\n",
            "Epoch: [7] Total time: 0:00:23 (0.3847 s / it)\n",
            "creating index...\n",
            "index created!\n",
            "Test:  [ 0/50]  eta: 0:00:15  model_time: 0.1288 (0.1288)  evaluator_time: 0.0047 (0.0047)  time: 0.3106  data: 0.1757  max mem: 3877\n",
            "Test:  [49/50]  eta: 0:00:00  model_time: 0.0735 (0.0779)  evaluator_time: 0.0037 (0.0052)  time: 0.0868  data: 0.0039  max mem: 3877\n",
            "Test: Total time: 0:00:04 (0.0936 s / it)\n",
            "Averaged stats: model_time: 0.0735 (0.0779)  evaluator_time: 0.0037 (0.0052)\n",
            "Accumulating evaluation results...\n",
            "DONE (t=0.01s).\n",
            "Accumulating evaluation results...\n",
            "DONE (t=0.01s).\n",
            "IoU metric: bbox\n",
            " Average Precision  (AP) @[ IoU=0.50:0.95 | area=   all | maxDets=100 ] = 0.829\n",
            " Average Precision  (AP) @[ IoU=0.50      | area=   all | maxDets=100 ] = 0.997\n",
            " Average Precision  (AP) @[ IoU=0.75      | area=   all | maxDets=100 ] = 0.950\n",
            " Average Precision  (AP) @[ IoU=0.50:0.95 | area= small | maxDets=100 ] = -1.000\n",
            " Average Precision  (AP) @[ IoU=0.50:0.95 | area=medium | maxDets=100 ] = 0.844\n",
            " Average Precision  (AP) @[ IoU=0.50:0.95 | area= large | maxDets=100 ] = 0.830\n",
            " Average Recall     (AR) @[ IoU=0.50:0.95 | area=   all | maxDets=  1 ] = 0.391\n",
            " Average Recall     (AR) @[ IoU=0.50:0.95 | area=   all | maxDets= 10 ] = 0.864\n",
            " Average Recall     (AR) @[ IoU=0.50:0.95 | area=   all | maxDets=100 ] = 0.864\n",
            " Average Recall     (AR) @[ IoU=0.50:0.95 | area= small | maxDets=100 ] = -1.000\n",
            " Average Recall     (AR) @[ IoU=0.50:0.95 | area=medium | maxDets=100 ] = 0.867\n",
            " Average Recall     (AR) @[ IoU=0.50:0.95 | area= large | maxDets=100 ] = 0.864\n",
            "IoU metric: segm\n",
            " Average Precision  (AP) @[ IoU=0.50:0.95 | area=   all | maxDets=100 ] = 0.764\n",
            " Average Precision  (AP) @[ IoU=0.50      | area=   all | maxDets=100 ] = 0.987\n",
            " Average Precision  (AP) @[ IoU=0.75      | area=   all | maxDets=100 ] = 0.940\n",
            " Average Precision  (AP) @[ IoU=0.50:0.95 | area= small | maxDets=100 ] = -1.000\n",
            " Average Precision  (AP) @[ IoU=0.50:0.95 | area=medium | maxDets=100 ] = 0.778\n",
            " Average Precision  (AP) @[ IoU=0.50:0.95 | area= large | maxDets=100 ] = 0.766\n",
            " Average Recall     (AR) @[ IoU=0.50:0.95 | area=   all | maxDets=  1 ] = 0.358\n",
            " Average Recall     (AR) @[ IoU=0.50:0.95 | area=   all | maxDets= 10 ] = 0.800\n",
            " Average Recall     (AR) @[ IoU=0.50:0.95 | area=   all | maxDets=100 ] = 0.800\n",
            " Average Recall     (AR) @[ IoU=0.50:0.95 | area= small | maxDets=100 ] = -1.000\n",
            " Average Recall     (AR) @[ IoU=0.50:0.95 | area=medium | maxDets=100 ] = 0.833\n",
            " Average Recall     (AR) @[ IoU=0.50:0.95 | area= large | maxDets=100 ] = 0.799\n",
            "Epoch: [8]  [ 0/60]  eta: 0:01:05  lr: 0.000050  loss: 0.2651 (0.2651)  loss_classifier: 0.0440 (0.0440)  loss_box_reg: 0.0727 (0.0727)  loss_mask: 0.1429 (0.1429)  loss_objectness: 0.0018 (0.0018)  loss_rpn_box_reg: 0.0037 (0.0037)  time: 1.0905  data: 0.6647  max mem: 3877\n",
            "Epoch: [8]  [10/60]  eta: 0:00:21  lr: 0.000050  loss: 0.1804 (0.1884)  loss_classifier: 0.0258 (0.0308)  loss_box_reg: 0.0333 (0.0361)  loss_mask: 0.1188 (0.1176)  loss_objectness: 0.0018 (0.0019)  loss_rpn_box_reg: 0.0017 (0.0020)  time: 0.4289  data: 0.0645  max mem: 3877\n",
            "Epoch: [8]  [20/60]  eta: 0:00:15  lr: 0.000050  loss: 0.1720 (0.1810)  loss_classifier: 0.0242 (0.0271)  loss_box_reg: 0.0303 (0.0346)  loss_mask: 0.1121 (0.1153)  loss_objectness: 0.0005 (0.0014)  loss_rpn_box_reg: 0.0017 (0.0026)  time: 0.3586  data: 0.0059  max mem: 3877\n",
            "Epoch: [8]  [30/60]  eta: 0:00:11  lr: 0.000050  loss: 0.1704 (0.1803)  loss_classifier: 0.0208 (0.0262)  loss_box_reg: 0.0252 (0.0337)  loss_mask: 0.1121 (0.1166)  loss_objectness: 0.0003 (0.0011)  loss_rpn_box_reg: 0.0018 (0.0026)  time: 0.3655  data: 0.0073  max mem: 3877\n",
            "Epoch: [8]  [40/60]  eta: 0:00:07  lr: 0.000050  loss: 0.1738 (0.1816)  loss_classifier: 0.0227 (0.0263)  loss_box_reg: 0.0295 (0.0346)  loss_mask: 0.1143 (0.1170)  loss_objectness: 0.0003 (0.0012)  loss_rpn_box_reg: 0.0020 (0.0026)  time: 0.3797  data: 0.0073  max mem: 3877\n",
            "Epoch: [8]  [50/60]  eta: 0:00:03  lr: 0.000050  loss: 0.1666 (0.1813)  loss_classifier: 0.0227 (0.0263)  loss_box_reg: 0.0319 (0.0356)  loss_mask: 0.1065 (0.1156)  loss_objectness: 0.0003 (0.0011)  loss_rpn_box_reg: 0.0022 (0.0027)  time: 0.3830  data: 0.0073  max mem: 3877\n",
            "Epoch: [8]  [59/60]  eta: 0:00:00  lr: 0.000050  loss: 0.1562 (0.1805)  loss_classifier: 0.0242 (0.0263)  loss_box_reg: 0.0287 (0.0357)  loss_mask: 0.1052 (0.1147)  loss_objectness: 0.0003 (0.0012)  loss_rpn_box_reg: 0.0017 (0.0026)  time: 0.3793  data: 0.0072  max mem: 3877\n",
            "Epoch: [8] Total time: 0:00:23 (0.3857 s / it)\n",
            "creating index...\n",
            "index created!\n",
            "Test:  [ 0/50]  eta: 0:00:16  model_time: 0.0884 (0.0884)  evaluator_time: 0.0059 (0.0059)  time: 0.3244  data: 0.2288  max mem: 3877\n",
            "Test:  [49/50]  eta: 0:00:00  model_time: 0.0748 (0.0768)  evaluator_time: 0.0036 (0.0053)  time: 0.0869  data: 0.0037  max mem: 3877\n",
            "Test: Total time: 0:00:04 (0.0932 s / it)\n",
            "Averaged stats: model_time: 0.0748 (0.0768)  evaluator_time: 0.0036 (0.0053)\n",
            "Accumulating evaluation results...\n",
            "DONE (t=0.01s).\n",
            "Accumulating evaluation results...\n",
            "DONE (t=0.01s).\n",
            "IoU metric: bbox\n",
            " Average Precision  (AP) @[ IoU=0.50:0.95 | area=   all | maxDets=100 ] = 0.832\n",
            " Average Precision  (AP) @[ IoU=0.50      | area=   all | maxDets=100 ] = 0.997\n",
            " Average Precision  (AP) @[ IoU=0.75      | area=   all | maxDets=100 ] = 0.960\n",
            " Average Precision  (AP) @[ IoU=0.50:0.95 | area= small | maxDets=100 ] = -1.000\n",
            " Average Precision  (AP) @[ IoU=0.50:0.95 | area=medium | maxDets=100 ] = 0.844\n",
            " Average Precision  (AP) @[ IoU=0.50:0.95 | area= large | maxDets=100 ] = 0.833\n",
            " Average Recall     (AR) @[ IoU=0.50:0.95 | area=   all | maxDets=  1 ] = 0.390\n",
            " Average Recall     (AR) @[ IoU=0.50:0.95 | area=   all | maxDets= 10 ] = 0.867\n",
            " Average Recall     (AR) @[ IoU=0.50:0.95 | area=   all | maxDets=100 ] = 0.867\n",
            " Average Recall     (AR) @[ IoU=0.50:0.95 | area= small | maxDets=100 ] = -1.000\n",
            " Average Recall     (AR) @[ IoU=0.50:0.95 | area=medium | maxDets=100 ] = 0.867\n",
            " Average Recall     (AR) @[ IoU=0.50:0.95 | area= large | maxDets=100 ] = 0.867\n",
            "IoU metric: segm\n",
            " Average Precision  (AP) @[ IoU=0.50:0.95 | area=   all | maxDets=100 ] = 0.769\n",
            " Average Precision  (AP) @[ IoU=0.50      | area=   all | maxDets=100 ] = 0.997\n",
            " Average Precision  (AP) @[ IoU=0.75      | area=   all | maxDets=100 ] = 0.940\n",
            " Average Precision  (AP) @[ IoU=0.50:0.95 | area= small | maxDets=100 ] = -1.000\n",
            " Average Precision  (AP) @[ IoU=0.50:0.95 | area=medium | maxDets=100 ] = 0.778\n",
            " Average Precision  (AP) @[ IoU=0.50:0.95 | area= large | maxDets=100 ] = 0.770\n",
            " Average Recall     (AR) @[ IoU=0.50:0.95 | area=   all | maxDets=  1 ] = 0.359\n",
            " Average Recall     (AR) @[ IoU=0.50:0.95 | area=   all | maxDets= 10 ] = 0.803\n",
            " Average Recall     (AR) @[ IoU=0.50:0.95 | area=   all | maxDets=100 ] = 0.803\n",
            " Average Recall     (AR) @[ IoU=0.50:0.95 | area= small | maxDets=100 ] = -1.000\n",
            " Average Recall     (AR) @[ IoU=0.50:0.95 | area=medium | maxDets=100 ] = 0.833\n",
            " Average Recall     (AR) @[ IoU=0.50:0.95 | area= large | maxDets=100 ] = 0.802\n",
            "Epoch: [9]  [ 0/60]  eta: 0:00:51  lr: 0.000005  loss: 0.1589 (0.1589)  loss_classifier: 0.0240 (0.0240)  loss_box_reg: 0.0297 (0.0297)  loss_mask: 0.1011 (0.1011)  loss_objectness: 0.0008 (0.0008)  loss_rpn_box_reg: 0.0033 (0.0033)  time: 0.8582  data: 0.4689  max mem: 3877\n",
            "Epoch: [9]  [10/60]  eta: 0:00:20  lr: 0.000005  loss: 0.1605 (0.1737)  loss_classifier: 0.0251 (0.0255)  loss_box_reg: 0.0297 (0.0350)  loss_mask: 0.1083 (0.1104)  loss_objectness: 0.0002 (0.0003)  loss_rpn_box_reg: 0.0021 (0.0025)  time: 0.4184  data: 0.0467  max mem: 3877\n",
            "Epoch: [9]  [20/60]  eta: 0:00:15  lr: 0.000005  loss: 0.1654 (0.1706)  loss_classifier: 0.0226 (0.0232)  loss_box_reg: 0.0284 (0.0324)  loss_mask: 0.1098 (0.1117)  loss_objectness: 0.0002 (0.0006)  loss_rpn_box_reg: 0.0021 (0.0027)  time: 0.3712  data: 0.0059  max mem: 3877\n",
            "Epoch: [9]  [30/60]  eta: 0:00:11  lr: 0.000005  loss: 0.1686 (0.1754)  loss_classifier: 0.0226 (0.0241)  loss_box_reg: 0.0284 (0.0336)  loss_mask: 0.1112 (0.1141)  loss_objectness: 0.0005 (0.0008)  loss_rpn_box_reg: 0.0024 (0.0028)  time: 0.3730  data: 0.0072  max mem: 3877\n",
            "Epoch: [9]  [40/60]  eta: 0:00:07  lr: 0.000005  loss: 0.1866 (0.1781)  loss_classifier: 0.0238 (0.0255)  loss_box_reg: 0.0400 (0.0359)  loss_mask: 0.1086 (0.1132)  loss_objectness: 0.0005 (0.0007)  loss_rpn_box_reg: 0.0026 (0.0027)  time: 0.3690  data: 0.0071  max mem: 3877\n",
            "Epoch: [9]  [50/60]  eta: 0:00:03  lr: 0.000005  loss: 0.1716 (0.1772)  loss_classifier: 0.0241 (0.0255)  loss_box_reg: 0.0330 (0.0351)  loss_mask: 0.1104 (0.1132)  loss_objectness: 0.0004 (0.0008)  loss_rpn_box_reg: 0.0024 (0.0026)  time: 0.3654  data: 0.0073  max mem: 3877\n",
            "Epoch: [9]  [59/60]  eta: 0:00:00  lr: 0.000005  loss: 0.1736 (0.1774)  loss_classifier: 0.0234 (0.0256)  loss_box_reg: 0.0283 (0.0354)  loss_mask: 0.1104 (0.1130)  loss_objectness: 0.0002 (0.0008)  loss_rpn_box_reg: 0.0024 (0.0026)  time: 0.3789  data: 0.0077  max mem: 3877\n",
            "Epoch: [9] Total time: 0:00:22 (0.3821 s / it)\n",
            "creating index...\n",
            "index created!\n",
            "Test:  [ 0/50]  eta: 0:00:16  model_time: 0.1384 (0.1384)  evaluator_time: 0.0033 (0.0033)  time: 0.3304  data: 0.1873  max mem: 3877\n",
            "Test:  [49/50]  eta: 0:00:00  model_time: 0.0734 (0.0783)  evaluator_time: 0.0035 (0.0053)  time: 0.0875  data: 0.0045  max mem: 3877\n",
            "Test: Total time: 0:00:04 (0.0947 s / it)\n",
            "Averaged stats: model_time: 0.0734 (0.0783)  evaluator_time: 0.0035 (0.0053)\n",
            "Accumulating evaluation results...\n",
            "DONE (t=0.01s).\n",
            "Accumulating evaluation results...\n",
            "DONE (t=0.01s).\n",
            "IoU metric: bbox\n",
            " Average Precision  (AP) @[ IoU=0.50:0.95 | area=   all | maxDets=100 ] = 0.832\n",
            " Average Precision  (AP) @[ IoU=0.50      | area=   all | maxDets=100 ] = 0.997\n",
            " Average Precision  (AP) @[ IoU=0.75      | area=   all | maxDets=100 ] = 0.960\n",
            " Average Precision  (AP) @[ IoU=0.50:0.95 | area= small | maxDets=100 ] = -1.000\n",
            " Average Precision  (AP) @[ IoU=0.50:0.95 | area=medium | maxDets=100 ] = 0.844\n",
            " Average Precision  (AP) @[ IoU=0.50:0.95 | area= large | maxDets=100 ] = 0.833\n",
            " Average Recall     (AR) @[ IoU=0.50:0.95 | area=   all | maxDets=  1 ] = 0.390\n",
            " Average Recall     (AR) @[ IoU=0.50:0.95 | area=   all | maxDets= 10 ] = 0.867\n",
            " Average Recall     (AR) @[ IoU=0.50:0.95 | area=   all | maxDets=100 ] = 0.867\n",
            " Average Recall     (AR) @[ IoU=0.50:0.95 | area= small | maxDets=100 ] = -1.000\n",
            " Average Recall     (AR) @[ IoU=0.50:0.95 | area=medium | maxDets=100 ] = 0.867\n",
            " Average Recall     (AR) @[ IoU=0.50:0.95 | area= large | maxDets=100 ] = 0.867\n",
            "IoU metric: segm\n",
            " Average Precision  (AP) @[ IoU=0.50:0.95 | area=   all | maxDets=100 ] = 0.768\n",
            " Average Precision  (AP) @[ IoU=0.50      | area=   all | maxDets=100 ] = 0.997\n",
            " Average Precision  (AP) @[ IoU=0.75      | area=   all | maxDets=100 ] = 0.940\n",
            " Average Precision  (AP) @[ IoU=0.50:0.95 | area= small | maxDets=100 ] = -1.000\n",
            " Average Precision  (AP) @[ IoU=0.50:0.95 | area=medium | maxDets=100 ] = 0.778\n",
            " Average Precision  (AP) @[ IoU=0.50:0.95 | area= large | maxDets=100 ] = 0.770\n",
            " Average Recall     (AR) @[ IoU=0.50:0.95 | area=   all | maxDets=  1 ] = 0.359\n",
            " Average Recall     (AR) @[ IoU=0.50:0.95 | area=   all | maxDets= 10 ] = 0.803\n",
            " Average Recall     (AR) @[ IoU=0.50:0.95 | area=   all | maxDets=100 ] = 0.803\n",
            " Average Recall     (AR) @[ IoU=0.50:0.95 | area= small | maxDets=100 ] = -1.000\n",
            " Average Recall     (AR) @[ IoU=0.50:0.95 | area=medium | maxDets=100 ] = 0.833\n",
            " Average Recall     (AR) @[ IoU=0.50:0.95 | area= large | maxDets=100 ] = 0.803\n"
          ],
          "name": "stdout"
        }
      ]
    },
    {
      "cell_type": "code",
      "metadata": {
        "colab": {
          "base_uri": "https://localhost:8080/",
          "height": 401
        },
        "id": "ZWl3xRqDEeJw",
        "outputId": "e4940792-a182-4b37-ad71-f5ba2be8a649"
      },
      "source": [
        "# pick one image from the test set\n",
        "img, _ = dataset_test[0]\n",
        "# put the model in evaluation mode\n",
        "model.eval()\n",
        "with torch.no_grad():\n",
        "    prediction = model([img.to(device)])\n",
        " \n",
        "Image.fromarray(img.mul(255).permute(1, 2, 0).byte().numpy())\n",
        "Image.fromarray(prediction[0]['masks'][0, 0].mul(255).byte().cpu().numpy())\n"
      ],
      "execution_count": 22,
      "outputs": [
        {
          "output_type": "execute_result",
          "data": {
            "image/png": "[encoded data removed]",
            "text/plain": [
              "<PIL.Image.Image image mode=L size=409x384 at 0x7F26EC08D0F0>"
            ]
          },
          "metadata": {
            "tags": []
          },
          "execution_count": 22
        }
      ]
    }
  ]
}